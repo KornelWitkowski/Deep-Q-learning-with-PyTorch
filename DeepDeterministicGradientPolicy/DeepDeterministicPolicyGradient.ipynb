{
  "nbformat": 4,
  "nbformat_minor": 0,
  "metadata": {
    "colab": {
      "provenance": [],
      "gpuType": "T4"
    },
    "kernelspec": {
      "name": "python3",
      "display_name": "Python 3"
    },
    "language_info": {
      "name": "python"
    },
    "accelerator": "GPU"
  },
  "cells": [
    {
      "cell_type": "code",
      "execution_count": null,
      "metadata": {
        "id": "BWeWolUUfrxb"
      },
      "outputs": [],
      "source": [
        "!pip install gymnasium\n",
        "!pip install -q swig\n",
        "!pip install gymnasium[box2d]"
      ]
    },
    {
      "cell_type": "code",
      "source": [
        "import matplotlib.pyplot as plt\n",
        "import gymnasium as gym\n",
        "\n",
        "env = gym.make(\"BipedalWalker-v3\", render_mode=\"rgb_array\")\n",
        "env.reset()\n",
        "plt.imshow(env.render())\n",
        "plt.axis(\"off\");"
      ],
      "metadata": {
        "colab": {
          "base_uri": "https://localhost:8080/",
          "height": 367
        },
        "id": "YCMGsA06fxbu",
        "outputId": "0eba606a-fae1-4e7e-a7ec-01f85ab6e40b"
      },
      "execution_count": 2,
      "outputs": [
        {
          "output_type": "display_data",
          "data": {
            "text/plain": [
              "<Figure size 640x480 with 1 Axes>"
            ],
            "image/png": "[encoded data removed]"
          },
          "metadata": {}
        }
      ]
    },
    {
      "cell_type": "code",
      "source": [
        "import torch\n",
        "from torch.nn import Module, Linear, ReLU, Tanh, Sequential\n",
        "\n",
        "device = 'cuda:0' if torch.cuda.is_available() else 'cpu'\n",
        "\n",
        "class Policy(Module):\n",
        "\n",
        "  def __init__(self, hidden_size, obs_size, out_dims):\n",
        "    super().__init__()\n",
        "    self.net = Sequential(\n",
        "        Linear(obs_size, hidden_size),\n",
        "        ReLU(),\n",
        "        Linear(hidden_size, hidden_size),\n",
        "        ReLU(),\n",
        "        Linear(hidden_size, out_dims))\n",
        "\n",
        "  def mu(self, state):\n",
        "    return self.net(state)\n",
        "\n",
        "  def forward(self, state, epsilon=0.0):\n",
        "    mu = self.mu(state)\n",
        "    mu = mu + torch.normal(0, epsilon, mu.size(), device=mu.device)\n",
        "    action = torch.tanh(mu)\n",
        "    return action.cpu().numpy()\n"
      ],
      "metadata": {
        "id": "kstZoOyPgD9S"
      },
      "execution_count": 10,
      "outputs": []
    },
    {
      "cell_type": "code",
      "source": [
        "class QNet(Module):\n",
        "\n",
        "  def __init__(self, hidden_size, obs_size, out_dims):\n",
        "    super().__init__()\n",
        "    self.net = Sequential(\n",
        "          Linear(obs_size + out_dims, hidden_size),\n",
        "          ReLU(),\n",
        "          Linear(hidden_size, hidden_size),\n",
        "          ReLU(),\n",
        "          Linear(hidden_size, 1))\n",
        "\n",
        "  def forward(self, state, action):\n",
        "    state_action = torch.hstack((state, action))\n",
        "    return self.net(state_action)"
      ],
      "metadata": {
        "id": "iettfMJzhohW"
      },
      "execution_count": 11,
      "outputs": []
    },
    {
      "cell_type": "code",
      "source": [
        "from collections import deque\n",
        "import random\n",
        "\n",
        "class ReplayBuffer:\n",
        "\n",
        "  def __init__(self, capacity):\n",
        "    self.buffer = deque(maxlen=capacity)\n",
        "\n",
        "  def __len__(self):\n",
        "    return len(self.buffer)\n",
        "\n",
        "  def append(self, experience):\n",
        "    self.buffer.append(experience)\n",
        "\n",
        "  def sample(self, batch_size):\n",
        "    return random.sample(self.buffer, batch_size)\n",
        ""
      ],
      "metadata": {
        "id": "bMww-ySEiDYo"
      },
      "execution_count": 12,
      "outputs": []
    },
    {
      "cell_type": "code",
      "source": [
        "def polyak_average(net, target_net, tau=0.01):\n",
        "  for qp, tp in zip(net.parameters(), target_net.parameters()):\n",
        "    tp.data.copy_(tau * qp.data + (1 - tau) * tp.data)"
      ],
      "metadata": {
        "id": "TPqOGMGEiI4J"
      },
      "execution_count": 13,
      "outputs": []
    },
    {
      "cell_type": "code",
      "source": [
        "from gymnasium.wrappers import RecordVideo\n",
        "\n",
        "def create_gym_environment(name):\n",
        "  environment = gym.make(name, render_mode=\"rgb_array\")\n",
        "  environment = RecordVideo(environment, video_folder=f\"./{name}_recored_episodes\", episode_trigger=lambda x: x % 25 == 0, disable_logger=True)\n",
        "\n",
        "  return environment"
      ],
      "metadata": {
        "id": "BkmqWx5gkGy-"
      },
      "execution_count": 14,
      "outputs": []
    },
    {
      "cell_type": "code",
      "source": [
        "from torch.optim import AdamW\n",
        "from torch.nn.functional import smooth_l1_loss\n",
        "from copy import deepcopy\n",
        "import numpy as np\n",
        "\n",
        "class DeepDeterministicPolicyGradient():\n",
        "  def __init__(self, env_name, nets=None, capacity=100_000,\n",
        "               batch_size=256, lr=1e-3, hidden_size=128, gamma=0.99, tau=0.05,\n",
        "               loss_fn=smooth_l1_loss, optim=AdamW, eps_start=1.0, eps_end=0.15,\n",
        "               eps_last_episode=600, samples_per_epoch=1024, repeat_action_rate=5):\n",
        "    self.env = create_gym_environment(env_name)\n",
        "    self.obs = self.env.reset()\n",
        "\n",
        "    obs_size = self.env.observation_space.shape[0]\n",
        "    n_actions = self.env.action_space.shape[0]\n",
        "\n",
        "    self.q_net = QNet(hidden_size, obs_size, n_actions).to(device) if not nets else nets[\"q_net\"].to(device)\n",
        "    self.policy = Policy(hidden_size, obs_size, n_actions).to(device) if not nets else nets[\"policy\"].to(device)\n",
        "    self.q_net_optimizer = optim(self.q_net.parameters(), lr=lr)\n",
        "    self.policy_optimizer = optim(self.policy.parameters(), lr=lr)\n",
        "\n",
        "    self.target_q_net = deepcopy(self.q_net)\n",
        "    self.target_policy = deepcopy(self.policy)\n",
        "\n",
        "    self.buffer = ReplayBuffer(capacity=capacity)\n",
        "    self.loss_fn = loss_fn\n",
        "\n",
        "    self.gamma = gamma\n",
        "    self.tau = tau\n",
        "    self.batch_size = batch_size\n",
        "    self.eps_start = eps_start\n",
        "    self.eps_end = eps_end\n",
        "    self.eps_last_episode = eps_last_episode\n",
        "    self.samples_per_epoch = samples_per_epoch\n",
        "    self.lr = lr\n",
        "\n",
        "    self.current_epoch = 1\n",
        "    self.log = []\n",
        "    self.returns = []\n",
        "    self.episode_lengths = []\n",
        "    self.repeat_action_rate = repeat_action_rate\n",
        "\n",
        "    while len(self.buffer) < self.samples_per_epoch:\n",
        "      self.play_episode()\n",
        "\n",
        "  @torch.no_grad()\n",
        "  def play_episode(self, policy=None, epsilon=0.0):\n",
        "      state = self.env.reset()[0]\n",
        "      state = torch.tensor(state, device=device)\n",
        "      done = False\n",
        "      rewards = 0\n",
        "      epsiode_length = 0\n",
        "\n",
        "      while not done:\n",
        "        if policy:\n",
        "          action = self.policy(state.unsqueeze(0), epsilon=epsilon).squeeze()\n",
        "        else:\n",
        "          action = self.env.action_space.sample()\n",
        "\n",
        "        for _ in range(self.repeat_action_rate):\n",
        "          next_state, reward, done1, done2, info = self.env.step(action)\n",
        "          rewards += reward\n",
        "          epsiode_length += 1\n",
        "        done = done1 or done2\n",
        "\n",
        "        next_state, action, reward, done = list(map(lambda x: torch.tensor(x, device=device), [next_state, action, reward, done]))\n",
        "        exp = (state, action, reward, done, next_state)\n",
        "        self.buffer.append(exp)\n",
        "\n",
        "        state = next_state\n",
        "      return rewards, epsiode_length\n",
        "\n",
        "  def training_step(self):\n",
        "      batch_T = self.buffer.sample(self.batch_size)\n",
        "      batch = list(map(torch.stack, zip(*batch_T)))\n",
        "\n",
        "      states, actions, rewards, dones, next_states = batch\n",
        "      rewards = rewards.unsqueeze(1)\n",
        "      dones = dones.unsqueeze(1)\n",
        "\n",
        "      action_values = self.q_net(states, actions)\n",
        "      next_actions = self.target_policy.mu(next_states)\n",
        "      next_action_values = self.target_q_net(next_states, next_actions)\n",
        "      next_action_values[dones] = 0.0\n",
        "\n",
        "      expected_action_values = rewards + self.gamma * next_action_values\n",
        "      q_loss = self.loss_fn(action_values, expected_action_values)\n",
        "\n",
        "      self.q_net_optimizer.zero_grad()\n",
        "      q_loss.backward()\n",
        "      self.q_net_optimizer.step()\n",
        "\n",
        "      mu = self.policy.mu(states)\n",
        "      policy_loss = - self.q_net(states, mu).mean()\n",
        "\n",
        "      self.policy_optimizer.zero_grad()\n",
        "      policy_loss.backward()\n",
        "      self.policy_optimizer.step()\n",
        "\n",
        "      return q_loss, policy_loss\n",
        "\n",
        "  def training_epoch_end(self):\n",
        "      epsilon = max(self.eps_end, self.eps_start - self.current_epoch / self.eps_last_episode)\n",
        "      last_return, episode_length = self.play_episode(self.policy, epsilon=epsilon)\n",
        "\n",
        "      polyak_average(self.q_net, self.target_q_net, tau=self.tau)\n",
        "      polyak_average(self.policy, self.target_policy, tau=self.tau)\n",
        "      self.current_epoch += 1\n",
        "\n",
        "      return last_return, episode_length\n",
        "\n",
        "  def fit(self, n_epoch):\n",
        "      for epoch in range(n_epoch):\n",
        "        loss_total = 0\n",
        "        for _ in range(self.samples_per_epoch//self.batch_size):\n",
        "          loss = self.training_step()\n",
        "\n",
        "        last_return, episode_length  = self.training_epoch_end()\n",
        "\n",
        "        self.returns.append(last_return)\n",
        "        self.episode_lengths.append(episode_length)\n",
        "        self.log.append([self.current_epoch, last_return])\n",
        "\n",
        "        if self.current_epoch % 25 == 0:\n",
        "          print(f\"Epoch: {self.current_epoch}, mean return: {np.mean(self.returns[-10:]):.2f}, \" \\\n",
        "            f\"mean episode length: {np.mean(self.episode_lengths[-10:])}\")"
      ],
      "metadata": {
        "id": "F2FdygjFiUfw"
      },
      "execution_count": 27,
      "outputs": []
    },
    {
      "cell_type": "code",
      "source": [
        "alg = DeepDeterministicPolicyGradient(\"BipedalWalker-v3\", repeat_action_rate=3, lr=1e-4, eps_start=0.3, eps_end=0.15)\n",
        "alg.fit(1500)"
      ],
      "metadata": {
        "id": "-eFfzSM6smCh"
      },
      "execution_count": null,
      "outputs": []
    }
  ]
}