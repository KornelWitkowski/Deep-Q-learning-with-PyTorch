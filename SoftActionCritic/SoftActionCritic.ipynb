{
  "cells": [
    {
      "cell_type": "markdown",
      "source": [
        "# Soft Action Critic"
      ],
      "metadata": {
        "id": "Sggv8mqAZJVT"
      }
    },
    {
      "cell_type": "markdown",
      "source": [
        "## Installation"
      ],
      "metadata": {
        "id": "KQat8lGHZQQo"
      }
    },
    {
      "cell_type": "code",
      "execution_count": 2,
      "metadata": {
        "colab": {
          "base_uri": "https://localhost:8080/"
        },
        "id": "NnmsnafIJaC9",
        "outputId": "e000f0a9-a167-4ed3-a40e-68c825f575eb"
      },
      "outputs": [
        {
          "output_type": "stream",
          "name": "stdout",
          "text": [
            "Looking in indexes: https://pypi.org/simple, https://us-python.pkg.dev/colab-wheels/public/simple/\n",
            "Collecting gymnasium\n",
            "  Downloading gymnasium-0.28.1-py3-none-any.whl (925 kB)\n",
            "\u001b[2K     \u001b[90m━━━━━━━━━━━━━━━━━━━━━━━━━━━━━━━━━━━━━━\u001b[0m \u001b[32m925.5/925.5 kB\u001b[0m \u001b[31m24.8 MB/s\u001b[0m eta \u001b[36m0:00:00\u001b[0m\n",
            "\u001b[?25hRequirement already satisfied: numpy>=1.21.0 in /usr/local/lib/python3.10/dist-packages (from gymnasium) (1.22.4)\n",
            "Collecting jax-jumpy>=1.0.0 (from gymnasium)\n",
            "  Downloading jax_jumpy-1.0.0-py3-none-any.whl (20 kB)\n",
            "Requirement already satisfied: cloudpickle>=1.2.0 in /usr/local/lib/python3.10/dist-packages (from gymnasium) (2.2.1)\n",
            "Requirement already satisfied: typing-extensions>=4.3.0 in /usr/local/lib/python3.10/dist-packages (from gymnasium) (4.5.0)\n",
            "Collecting farama-notifications>=0.0.1 (from gymnasium)\n",
            "  Downloading Farama_Notifications-0.0.4-py3-none-any.whl (2.5 kB)\n",
            "Installing collected packages: farama-notifications, jax-jumpy, gymnasium\n",
            "Successfully installed farama-notifications-0.0.4 gymnasium-0.28.1 jax-jumpy-1.0.0\n",
            "\u001b[2K     \u001b[90m━━━━━━━━━━━━━━━━━━━━━━━━━━━━━━━━━━━━━━━━\u001b[0m \u001b[32m1.8/1.8 MB\u001b[0m \u001b[31m40.4 MB/s\u001b[0m eta \u001b[36m0:00:00\u001b[0m\n",
            "\u001b[?25hLooking in indexes: https://pypi.org/simple, https://us-python.pkg.dev/colab-wheels/public/simple/\n",
            "Requirement already satisfied: gymnasium[box2d] in /usr/local/lib/python3.10/dist-packages (0.28.1)\n",
            "Requirement already satisfied: numpy>=1.21.0 in /usr/local/lib/python3.10/dist-packages (from gymnasium[box2d]) (1.22.4)\n",
            "Requirement already satisfied: jax-jumpy>=1.0.0 in /usr/local/lib/python3.10/dist-packages (from gymnasium[box2d]) (1.0.0)\n",
            "Requirement already satisfied: cloudpickle>=1.2.0 in /usr/local/lib/python3.10/dist-packages (from gymnasium[box2d]) (2.2.1)\n",
            "Requirement already satisfied: typing-extensions>=4.3.0 in /usr/local/lib/python3.10/dist-packages (from gymnasium[box2d]) (4.5.0)\n",
            "Requirement already satisfied: farama-notifications>=0.0.1 in /usr/local/lib/python3.10/dist-packages (from gymnasium[box2d]) (0.0.4)\n",
            "Collecting box2d-py==2.3.5 (from gymnasium[box2d])\n",
            "  Downloading box2d-py-2.3.5.tar.gz (374 kB)\n",
            "\u001b[2K     \u001b[90m━━━━━━━━━━━━━━━━━━━━━━━━━━━━━━━━━━━━━━\u001b[0m \u001b[32m374.4/374.4 kB\u001b[0m \u001b[31m13.9 MB/s\u001b[0m eta \u001b[36m0:00:00\u001b[0m\n",
            "\u001b[?25h  Preparing metadata (setup.py) ... \u001b[?25l\u001b[?25hdone\n",
            "Collecting pygame==2.1.3 (from gymnasium[box2d])\n",
            "  Downloading pygame-2.1.3-cp310-cp310-manylinux_2_17_x86_64.manylinux2014_x86_64.whl (13.7 MB)\n",
            "\u001b[2K     \u001b[90m━━━━━━━━━━━━━━━━━━━━━━━━━━━━━━━━━━━━━━━━\u001b[0m \u001b[32m13.7/13.7 MB\u001b[0m \u001b[31m60.9 MB/s\u001b[0m eta \u001b[36m0:00:00\u001b[0m\n",
            "\u001b[?25hRequirement already satisfied: swig==4.* in /usr/local/lib/python3.10/dist-packages (from gymnasium[box2d]) (4.1.1)\n",
            "Building wheels for collected packages: box2d-py\n",
            "  Building wheel for box2d-py (setup.py) ... \u001b[?25l\u001b[?25hdone\n",
            "  Created wheel for box2d-py: filename=box2d_py-2.3.5-cp310-cp310-linux_x86_64.whl size=2812123 sha256=7235f566b84f9556478d3029550ed556f2782a39d609b49028462f97743437d2\n",
            "  Stored in directory: /root/.cache/pip/wheels/db/8f/6a/eaaadf056fba10a98d986f6dce954e6201ba3126926fc5ad9e\n",
            "Successfully built box2d-py\n",
            "Installing collected packages: box2d-py, pygame\n",
            "  Attempting uninstall: pygame\n",
            "    Found existing installation: pygame 2.3.0\n",
            "    Uninstalling pygame-2.3.0:\n",
            "      Successfully uninstalled pygame-2.3.0\n",
            "Successfully installed box2d-py-2.3.5 pygame-2.1.3\n"
          ]
        }
      ],
      "source": [
        "!pip install gymnasium\n",
        "!pip install -q swig\n",
        "!pip install gymnasium[box2d]"
      ]
    },
    {
      "cell_type": "code",
      "execution_count": 3,
      "metadata": {
        "colab": {
          "base_uri": "https://localhost:8080/",
          "height": 367
        },
        "id": "BFqh8SYWLzt4",
        "outputId": "abaed343-8548-4539-87b1-62ce0fc41e46"
      },
      "outputs": [
        {
          "output_type": "display_data",
          "data": {
            "text/plain": [
              "<Figure size 640x480 with 1 Axes>"
            ],
            "image/png": "[encoded data removed]"
          },
          "metadata": {}
        }
      ],
      "source": [
        "import matplotlib.pyplot as plt\n",
        "import gymnasium as gym\n",
        "\n",
        "env = gym.make('LunarLanderContinuous-v2', render_mode=\"rgb_array\")\n",
        "env.reset()\n",
        "\n",
        "plt.imshow(env.render())\n",
        "plt.axis(\"off\");"
      ]
    },
    {
      "cell_type": "markdown",
      "source": [
        "## Definitions"
      ],
      "metadata": {
        "id": "XmvVUqF4aqCE"
      }
    },
    {
      "cell_type": "code",
      "execution_count": 4,
      "metadata": {
        "id": "et8n6C7KLkEz"
      },
      "outputs": [],
      "source": [
        "from collections import deque\n",
        "import random\n",
        "\n",
        "class ReplayBuffer:\n",
        "\n",
        "  def __init__(self, capacity):\n",
        "    self.buffer = deque(maxlen=capacity)\n",
        "\n",
        "  def __len__(self):\n",
        "    return len(self.buffer)\n",
        "\n",
        "  def append(self, experience):\n",
        "    self.buffer.append(experience)\n",
        "\n",
        "  def sample(self, batch_size):\n",
        "    return random.sample(self.buffer, batch_size)"
      ]
    },
    {
      "cell_type": "code",
      "execution_count": 5,
      "metadata": {
        "id": "02c3TxOzLpBP"
      },
      "outputs": [],
      "source": [
        "from gymnasium.wrappers import RecordVideo\n",
        "\n",
        "def create_gym_environment(name):\n",
        "  environment = gym.make(name, render_mode=\"rgb_array\")\n",
        "  environment = RecordVideo(environment,\n",
        "                            video_folder=f\"./{name}_recored_episodes\",\n",
        "                            episode_trigger=lambda x: x % 25 == 0,\n",
        "                            disable_logger=True)\n",
        "\n",
        "  return environment"
      ]
    },
    {
      "cell_type": "code",
      "execution_count": 6,
      "metadata": {
        "id": "TPfON8xTMPvs"
      },
      "outputs": [],
      "source": [
        "import torch\n",
        "from torch.nn import Sequential, Linear, ReLU, Module\n",
        "\n",
        "class QNet(Module):\n",
        "\n",
        "  def __init__(self, hidden_size, obs_size, out_dims):\n",
        "    super().__init__()\n",
        "    self.net = Sequential(\n",
        "        Linear(obs_size + out_dims, hidden_size),\n",
        "        ReLU(),\n",
        "        Linear(hidden_size, hidden_size),\n",
        "        ReLU(),\n",
        "        Linear(hidden_size, 1)\n",
        "    )\n",
        "\n",
        "  def forward(self, state, action):\n",
        "    in_vector = torch.hstack((state, action)).float()\n",
        "    return self.net(in_vector)\n",
        "\n"
      ]
    },
    {
      "cell_type": "code",
      "execution_count": 13,
      "metadata": {
        "id": "Vehco9SwMzIy"
      },
      "outputs": [],
      "source": [
        "import numpy\n",
        "from torch.nn import Sequential, Linear, ReLU, Module\n",
        "from torch.nn.functional import softplus\n",
        "from torch.distributions.normal import Normal\n",
        "\n",
        "device = 'cuda:0' if torch.cuda.is_available() else 'cpu'\n",
        "\n",
        "class Policy(Module):\n",
        "  def __init__(self, hidden_size, obs_size, out_dims):\n",
        "    super().__init__()\n",
        "\n",
        "    self.net = Sequential(\n",
        "        Linear(obs_size, hidden_size),\n",
        "        ReLU(),\n",
        "        Linear(hidden_size, hidden_size),\n",
        "        ReLU()\n",
        "    )\n",
        "\n",
        "    self.linear_mu = Linear(hidden_size, out_dims)\n",
        "    self.linear_std = Linear(hidden_size, out_dims)\n",
        "\n",
        "  def forward(self, obs):\n",
        "      x = self.net(obs)\n",
        "      mu = self.linear_mu(x)\n",
        "      std = self.linear_std(x)\n",
        "      std = softplus(std) + 1e-3\n",
        "\n",
        "      dist = Normal(mu, std)\n",
        "      action = dist.rsample()\n",
        "\n",
        "      log_prob = dist.log_prob(action)\n",
        "      log_prob = log_prob.sum(dim=-1, keepdim=True)\n",
        "\n",
        "      action = torch.tanh(action)\n",
        "\n",
        "      return action, log_prob"
      ]
    },
    {
      "cell_type": "code",
      "execution_count": 14,
      "metadata": {
        "id": "5vWNSwL5nCdG"
      },
      "outputs": [],
      "source": [
        "def polyak_average(net, target_net, tau=0.01):\n",
        "  for qp, tp in zip(net.parameters(), target_net.parameters()):\n",
        "    tp.data.copy_(tau * qp.data + (1 - tau) * tp.data)"
      ]
    },
    {
      "cell_type": "code",
      "execution_count": 15,
      "metadata": {
        "id": "XawHpgp1SPBZ"
      },
      "outputs": [],
      "source": [
        "from copy import deepcopy\n",
        "from torch.nn.functional import smooth_l1_loss\n",
        "from torch.optim import AdamW\n",
        "import itertools\n",
        "import time\n",
        "import numpy as np\n",
        "\n",
        "\n",
        "class SoftActionCritic():\n",
        "\n",
        "  def __init__(self, env_name, q_nets = None, schedulers=None, capacity=100_000,\n",
        "               batch_size=256, lr=1e-3, hidden_size=128, gamma=0.99, alpha=0.02, tau=0.05,\n",
        "               loss_fn=smooth_l1_loss, optim=AdamW, eps_start=1.0, eps_end=0.15,\n",
        "               eps_last_episode=600, samples_per_epoch=1024, sync_rate=25, repeat_action_rate=5):\n",
        "      self.env_name = env_name\n",
        "      self.env = create_gym_environment(env_name)\n",
        "\n",
        "      obs_size = self.env.observation_space.shape[0]\n",
        "      n_actions = self.env.action_space.shape[0]\n",
        "      if q_nets:\n",
        "        self.q_net1 = q_nets[\"q_net1\"].to(device)\n",
        "        self.q_net2 = q_nets[\"q_net2\"].to(device)\n",
        "        self.policy = q_nets[\"policy\"].to(device)\n",
        "      else:\n",
        "        self.q_net1 = QNet(hidden_size, obs_size, n_actions).to(device)\n",
        "        self.q_net2 = QNet(hidden_size, obs_size, n_actions).to(device)\n",
        "        self.policy = Policy(hidden_size, obs_size, n_actions).to(device)\n",
        "\n",
        "      self.target_q_net1 = deepcopy(self.q_net1)\n",
        "      self.target_q_net2 = deepcopy(self.q_net2)\n",
        "      self.target_policy = deepcopy(self.policy)\n",
        "\n",
        "      self.schedulers = schedulers\n",
        "\n",
        "      self.buffer = ReplayBuffer(capacity=capacity)\n",
        "      self.loss_fn = loss_fn\n",
        "\n",
        "      self.gamma = gamma\n",
        "      self.alpha = alpha\n",
        "      self.tau = tau\n",
        "      self.batch_size = batch_size\n",
        "      self.eps_start = eps_start\n",
        "      self.eps_end = eps_end\n",
        "      self.eps_last_episode = eps_last_episode\n",
        "      self.sync_rate = sync_rate\n",
        "      self.samples_per_epoch = samples_per_epoch\n",
        "      self.lr = lr\n",
        "\n",
        "      q_net_params = itertools.chain(self.q_net1.parameters(), self.q_net2.parameters())\n",
        "      self.q_net_optimizer = optim(q_net_params, lr=self.lr)\n",
        "      self.policy_optimizer = optim(self.policy.parameters(), lr=self.lr)\n",
        "\n",
        "      self.current_epoch = 1\n",
        "      self.log = []\n",
        "      self.returns = []\n",
        "      self.episode_lengths = []\n",
        "      self.start_time = time.time()\n",
        "      self.repeat_action_rate = repeat_action_rate\n",
        "\n",
        "      while len(self.buffer) < self.samples_per_epoch:\n",
        "        self.play_episode()\n",
        "\n",
        "  @torch.no_grad()\n",
        "  def play_episode(self, policy=None):\n",
        "      state = self.env.reset()[0]\n",
        "      state = torch.tensor(state, device=device)\n",
        "      done = False\n",
        "      rewards = 0\n",
        "      epsiode_length = 0\n",
        "\n",
        "      while not done:\n",
        "\n",
        "        if policy:\n",
        "          action, _ = self.policy(state)\n",
        "          action = action.cpu().numpy()\n",
        "        else:\n",
        "          action = self.env.action_space.sample()\n",
        "\n",
        "        for _ in range(self.repeat_action_rate):\n",
        "          next_state, reward, done1, done2, info = self.env.step(action)\n",
        "          rewards += reward\n",
        "          epsiode_length += 1\n",
        "        done = done1 or done2\n",
        "\n",
        "        next_state = torch.tensor(next_state, device=device)\n",
        "        action = torch.tensor(action, device=device)\n",
        "        reward = torch.tensor(reward, device=device)\n",
        "        done = torch.tensor(done, device=device)\n",
        "        exp = (state, action, reward, done, next_state)\n",
        "\n",
        "        self.buffer.append(exp)\n",
        "        state = next_state\n",
        "      return rewards, epsiode_length\n",
        "\n",
        "  def training_step(self):\n",
        "      batch_T = self.buffer.sample(self.batch_size)\n",
        "      batch = list(map(torch.stack, zip(*batch_T)))\n",
        "\n",
        "      states, actions, rewards, dones, next_states = batch\n",
        "      rewards = rewards.unsqueeze(1)\n",
        "      dones = dones.unsqueeze(1)\n",
        "\n",
        "      action_values1 = self.q_net1(states, actions)\n",
        "      action_values2 = self.q_net2(states, actions)\n",
        "\n",
        "      target_actions, target_log_probs = self.target_policy(next_states)\n",
        "\n",
        "      next_action_values = torch.min(\n",
        "          self.target_q_net1(next_states, target_actions),\n",
        "          self.target_q_net2(next_states, target_actions)\n",
        "      )\n",
        "\n",
        "      next_action_values[dones] = 0.0\n",
        "\n",
        "      expected_action_values = rewards + self.gamma * (next_action_values - self.alpha*target_log_probs)\n",
        "\n",
        "      q_loss1 = self.loss_fn(action_values1, expected_action_values)\n",
        "      q_loss2 = self.loss_fn(action_values2, expected_action_values)\n",
        "\n",
        "      q_loss_total = q_loss1 + q_loss2\n",
        "\n",
        "      self.q_net_optimizer.zero_grad()\n",
        "      q_loss_total.backward()\n",
        "      self.q_net_optimizer.step()\n",
        "\n",
        "\n",
        "      actions, log_probs = self.policy(states)\n",
        "\n",
        "      action_values = torch.min(self.q_net1(states, actions),\n",
        "                                self.q_net2(states, actions)\n",
        "                                )\n",
        "\n",
        "      policy_loss = (self.alpha * log_probs - action_values).mean()\n",
        "\n",
        "      self.policy_optimizer.zero_grad()\n",
        "      policy_loss.backward()\n",
        "      self.policy_optimizer.step()\n",
        "\n",
        "      return q_loss_total, policy_loss\n",
        "\n",
        "  def step_schedulers(self):\n",
        "    if self.schedulers:\n",
        "      for scheduler in self.schedulers:\n",
        "        scheduler(self)\n",
        "\n",
        "  def training_epoch_end(self):\n",
        "    last_return, episode_length = self.play_episode(self.policy)\n",
        "\n",
        "    polyak_average(self.q_net1, self.target_q_net1, tau=self.tau)\n",
        "    polyak_average(self.q_net2, self.target_q_net2, tau=self.tau)\n",
        "    polyak_average(self.policy, self.target_policy, tau=self.tau)\n",
        "\n",
        "    self.step_schedulers()\n",
        "    self.current_epoch += 1\n",
        "    return last_return, episode_length\n",
        "\n",
        "\n",
        "  def fit(self, n_epoch):\n",
        "    for epoch in range(n_epoch):\n",
        "      loss_total = 0\n",
        "      for _ in range(self.samples_per_epoch//self.batch_size):\n",
        "        loss = self.training_step()\n",
        "\n",
        "      last_return, episode_length  = self.training_epoch_end()\n",
        "\n",
        "      self.returns.append(last_return)\n",
        "      self.episode_lengths.append(episode_length)\n",
        "      self.log.append([self.current_epoch, last_return])\n",
        "\n",
        "      if self.current_epoch % 25 == 0:\n",
        "        print(f\"Epoch: {self.current_epoch}, mean return: {np.mean(self.returns[-10:]):.2f}, \" \\\n",
        "          f\"mean episode length: {np.mean(self.episode_lengths[-10:])}\")"
      ]
    },
    {
      "cell_type": "markdown",
      "source": [
        "## Training"
      ],
      "metadata": {
        "id": "-5hNegr6asex"
      }
    },
    {
      "cell_type": "code",
      "source": [
        "def alpha_scheduler(algo):\n",
        "  epoch = algo.current_epoch\n",
        "  previous_alpha = algo.alpha\n",
        "  if epoch > 1000:\n",
        "    algo.alpha = 0.01\n",
        "  elif epoch > 600:\n",
        "   algo.alpha = 0.02\n",
        "  elif epoch > 400:\n",
        "   algo.alpha = 0.03\n",
        "  elif epoch > 200:\n",
        "    algo.alpha = 0.04\n",
        "  if previous_alpha != algo.alpha:\n",
        "    print(f\"Current \\\"alpha\\\" is {algo.alpha}\")"
      ],
      "metadata": {
        "id": "Ky3VkLsoxTIN"
      },
      "execution_count": 16,
      "outputs": []
    },
    {
      "cell_type": "code",
      "source": [
        "import shutil\n",
        "\n",
        "try:\n",
        "    shutil.rmtree(\"/content/LunarLanderContinuous-v2_recored_episodes\", ignore_errors=True)\n",
        "except:\n",
        "    pass"
      ],
      "metadata": {
        "id": "NCBwNBVAaksx"
      },
      "execution_count": 17,
      "outputs": []
    },
    {
      "cell_type": "code",
      "source": [
        "alg = SoftActionCritic('LunarLanderContinuous-v2', q_nets=None, schedulers=[alpha_scheduler], repeat_action_rate=3)\n",
        "alg.fit(2000)"
      ],
      "metadata": {
        "id": "d7uvw-VGky40"
      },
      "execution_count": null,
      "outputs": []
    },
    {
      "cell_type": "code",
      "source": [
        "torch.save(alg.policy, \"SAC_LunarLander_policy\")\n",
        "torch.save(alg.q_net1, \"SAC_LunarLander_qnet1\")\n",
        "torch.save(alg.q_net2, \"SAC_LunarLander_qnet2\")"
      ],
      "metadata": {
        "colab": {
          "base_uri": "https://localhost:8080/"
        },
        "id": "vweaP3DPtP4U",
        "outputId": "49b087ec-d293-4b2b-9efb-5db572dd93e3"
      },
      "execution_count": null,
      "outputs": [
        {
          "output_type": "stream",
          "name": "stderr",
          "text": [
            "/usr/local/lib/python3.10/dist-packages/ipykernel/ipkernel.py:283: DeprecationWarning: `should_run_async` will not call `transform_cell` automatically in the future. Please pass the result to `transformed_cell` argument and any exception that happen during thetransform in `preprocessing_exc_tuple` in IPython 7.17 and above.\n",
            "  and should_run_async(code)\n"
          ]
        }
      ]
    },
    {
      "cell_type": "markdown",
      "source": [
        "## Testing"
      ],
      "metadata": {
        "id": "KmlGOe6KtA7y"
      }
    },
    {
      "cell_type": "code",
      "source": [
        "policy = torch.load(\"SAC_LunarLander_policy\")"
      ],
      "metadata": {
        "id": "Z4USZDtMtvPc"
      },
      "execution_count": null,
      "outputs": []
    },
    {
      "cell_type": "code",
      "source": [
        "from gymnasium.wrappers import RecordVideo\n",
        "\n",
        "def create_test_gym_environment(name):\n",
        "  environment = gym.make(name, render_mode=\"rgb_array\")\n",
        "  environment = RecordVideo(environment, video_folder=f\"./test_{name}\", episode_trigger=lambda x: x % 1 == 0)\n",
        "\n",
        "  return environment"
      ],
      "metadata": {
        "id": "lAfPxQ2MoOiu"
      },
      "execution_count": null,
      "outputs": []
    },
    {
      "cell_type": "code",
      "source": [
        "@torch.no_grad()\n",
        "def play_episode(test_env, policy, repeat_action_rate):\n",
        "    state = test_env.reset()[0]\n",
        "    done = False\n",
        "\n",
        "    while not done:\n",
        "        state_v = torch.tensor(state)\n",
        "        action, _ = policy(state_v)\n",
        "        action = action.cpu().numpy()\n",
        "\n",
        "        for _ in range(repeat_action_rate):\n",
        "          next_state, reward, done1, done2, info = test_env.step(action)\n",
        "        done = done1 or done2\n",
        "        state = next_state"
      ],
      "metadata": {
        "id": "FgH__yNpo7jN"
      },
      "execution_count": null,
      "outputs": []
    },
    {
      "cell_type": "code",
      "source": [
        "test_env = create_test_gym_environment('LunarLanderContinuous-v2')\n",
        "\n",
        "for _ in range(10):\n",
        "  play_episode(test_env, policy, 2)"
      ],
      "metadata": {
        "id": "DK6r0wF_X3KJ"
      },
      "execution_count": null,
      "outputs": []
    }
  ],
  "metadata": {
    "colab": {
      "provenance": [],
      "gpuType": "T4"
    },
    "kernelspec": {
      "display_name": "Python 3",
      "name": "python3"
    },
    "language_info": {
      "name": "python"
    },
    "accelerator": "GPU"
  },
  "nbformat": 4,
  "nbformat_minor": 0
}