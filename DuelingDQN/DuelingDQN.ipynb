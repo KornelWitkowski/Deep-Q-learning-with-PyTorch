{
 "cells": [
  {
   "cell_type": "code",
   "execution_count": 1,
   "metadata": {
    "colab": {
     "base_uri": "https://localhost:8080/"
    },
    "id": "ewjPXkBCnCMQ",
    "outputId": "0c8b0f71-50c6-4e57-b803-f33df2ad7859"
   },
   "outputs": [
    {
     "name": "stdout",
     "output_type": "stream",
     "text": [
      "Collecting gymnasium\n",
      "  Downloading gymnasium-0.28.1-py3-none-any.whl (925 kB)\n",
      "     -------------------------------------- 925.5/925.5 kB 1.3 MB/s eta 0:00:00\n",
      "Collecting numpy>=1.21.0 (from gymnasium)\n",
      "  Downloading numpy-1.24.3-cp38-cp38-win_amd64.whl (14.9 MB)\n",
      "     ---------------------------------------- 14.9/14.9 MB 1.6 MB/s eta 0:00:00\n",
      "Collecting jax-jumpy>=1.0.0 (from gymnasium)\n",
      "  Downloading jax_jumpy-1.0.0-py3-none-any.whl (20 kB)\n",
      "Requirement already satisfied: cloudpickle>=1.2.0 in c:\\users\\48722\\appdata\\local\\programs\\python\\python38\\lib\\site-packages (from gymnasium) (2.2.1)\n",
      "Requirement already satisfied: typing-extensions>=4.3.0 in c:\\users\\48722\\appdata\\local\\programs\\python\\python38\\lib\\site-packages (from gymnasium) (4.3.0)\n",
      "Collecting farama-notifications>=0.0.1 (from gymnasium)\n",
      "  Downloading Farama_Notifications-0.0.4-py3-none-any.whl (2.5 kB)\n",
      "Requirement already satisfied: importlib-metadata>=4.8.0 in c:\\users\\48722\\appdata\\local\\programs\\python\\python38\\lib\\site-packages (from gymnasium) (4.12.0)\n",
      "Requirement already satisfied: zipp>=0.5 in c:\\users\\48722\\appdata\\local\\programs\\python\\python38\\lib\\site-packages (from importlib-metadata>=4.8.0->gymnasium) (3.8.1)\n",
      "Installing collected packages: farama-notifications, numpy, jax-jumpy, gymnasium\n",
      "  Attempting uninstall: numpy\n",
      "    Found existing installation: numpy 1.18.5\n",
      "    Uninstalling numpy-1.18.5:\n",
      "      Successfully uninstalled numpy-1.18.5\n",
      "Successfully installed farama-notifications-0.0.4 gymnasium-0.28.1 jax-jumpy-1.0.0 numpy-1.24.3\n"
     ]
    },
    {
     "name": "stderr",
     "output_type": "stream",
     "text": [
      "ERROR: pip's dependency resolver does not currently take into account all the packages that are installed. This behaviour is the source of the following dependency conflicts.\n",
      "scipy 1.7.3 requires numpy<1.23.0,>=1.16.5, but you have numpy 1.24.3 which is incompatible.\n",
      "tensorflow 2.9.0 requires tensorflow-estimator<2.10.0,>=2.9.0rc0, but you have tensorflow-estimator 2.3.0 which is incompatible.\n",
      "torchvision 0.10.0+cu102 requires torch==1.9.0, but you have torch 1.13.1 which is incompatible.\n"
     ]
    },
    {
     "name": "stdout",
     "output_type": "stream",
     "text": [
      "Requirement already satisfied: gymnasium[box2d] in c:\\users\\48722\\appdata\\local\\programs\\python\\python38\\lib\\site-packages (0.28.1)\n",
      "Requirement already satisfied: numpy>=1.21.0 in c:\\users\\48722\\appdata\\local\\programs\\python\\python38\\lib\\site-packages (from gymnasium[box2d]) (1.24.3)\n",
      "Requirement already satisfied: jax-jumpy>=1.0.0 in c:\\users\\48722\\appdata\\local\\programs\\python\\python38\\lib\\site-packages (from gymnasium[box2d]) (1.0.0)\n",
      "Requirement already satisfied: cloudpickle>=1.2.0 in c:\\users\\48722\\appdata\\local\\programs\\python\\python38\\lib\\site-packages (from gymnasium[box2d]) (2.2.1)\n",
      "Requirement already satisfied: typing-extensions>=4.3.0 in c:\\users\\48722\\appdata\\local\\programs\\python\\python38\\lib\\site-packages (from gymnasium[box2d]) (4.3.0)\n",
      "Requirement already satisfied: farama-notifications>=0.0.1 in c:\\users\\48722\\appdata\\local\\programs\\python\\python38\\lib\\site-packages (from gymnasium[box2d]) (0.0.4)\n",
      "Requirement already satisfied: importlib-metadata>=4.8.0 in c:\\users\\48722\\appdata\\local\\programs\\python\\python38\\lib\\site-packages (from gymnasium[box2d]) (4.12.0)\n",
      "Collecting box2d-py==2.3.5 (from gymnasium[box2d])\n",
      "  Downloading box2d-py-2.3.5.tar.gz (374 kB)\n",
      "     ------------------------------------ 374.4/374.4 kB 424.0 kB/s eta 0:00:00\n",
      "  Preparing metadata (setup.py): started\n",
      "  Preparing metadata (setup.py): finished with status 'done'\n",
      "Collecting pygame==2.1.3 (from gymnasium[box2d])\n",
      "  Using cached pygame-2.1.3-cp38-cp38-win_amd64.whl (10.4 MB)\n",
      "Requirement already satisfied: swig==4.* in c:\\users\\48722\\appdata\\local\\programs\\python\\python38\\lib\\site-packages (from gymnasium[box2d]) (4.1.1)\n",
      "Requirement already satisfied: zipp>=0.5 in c:\\users\\48722\\appdata\\local\\programs\\python\\python38\\lib\\site-packages (from importlib-metadata>=4.8.0->gymnasium[box2d]) (3.8.1)\n",
      "Building wheels for collected packages: box2d-py\n",
      "  Building wheel for box2d-py (setup.py): started\n",
      "  Building wheel for box2d-py (setup.py): finished with status 'done'\n",
      "  Created wheel for box2d-py: filename=box2d_py-2.3.5-cp38-cp38-win_amd64.whl size=499525 sha256=42a2a05ddc59714ed9287a48adfb2c9936f4dd51b3c24452c0bcbb786baea4ce\n",
      "  Stored in directory: c:\\users\\48722\\appdata\\local\\pip\\cache\\wheels\\8b\\95\\16\\1dc99ff9a3f316ff245fdb5c9086cd13c35dad630809909075\n",
      "Successfully built box2d-py\n",
      "Installing collected packages: box2d-py, pygame\n",
      "Successfully installed box2d-py-2.3.5 pygame-2.1.3\n"
     ]
    }
   ],
   "source": [
    "!pip install gymnasium\n",
    "!pip install -q swig\n",
    "!pip install gymnasium[box2d]"
   ]
  },
  {
   "cell_type": "code",
   "execution_count": 1,
   "metadata": {
    "colab": {
     "base_uri": "https://localhost:8080/",
     "height": 367
    },
    "id": "GmaSyp8IFl5l",
    "outputId": "b9da8222-741c-4214-d872-410071ecc7fe"
   },
   "outputs": [
    {
     "data": {
      "image/png": "[encoded data removed]",
      "text/plain": [
       "<Figure size 432x288 with 1 Axes>"
      ]
     },
     "metadata": {
      "needs_background": "light"
     },
     "output_type": "display_data"
    }
   ],
   "source": [
    "import matplotlib.pyplot as plt\n",
    "import gymnasium as gym\n",
    "\n",
    "env = gym.make(\"CarRacing-v2\", render_mode=\"rgb_array\", continuous=False)\n",
    "env.reset()\n",
    "for i in range(50):\n",
    "  env.step(3)\n",
    "\n",
    "plt.imshow(env.render())\n",
    "plt.axis(\"off\");"
   ]
  },
  {
   "cell_type": "code",
   "execution_count": 2,
   "metadata": {
    "id": "kSmaEpjwGJpo"
   },
   "outputs": [],
   "source": [
    "import random\n",
    "import torch\n",
    "import numpy as np\n",
    "\n",
    "device = 'cuda:0' if torch.cuda.is_available() else 'cpu'\n",
    "\n",
    "def epsilon_greedy(state, env, net, epsilon=0.0):\n",
    "  if np.random.random() < epsilon:\n",
    "    action = env.action_space.sample()\n",
    "  else:\n",
    "    q_values = net(state)\n",
    "    _, action = torch.max(q_values, dim=1)\n",
    "    action = int(action.item())\n",
    "  return action"
   ]
  },
  {
   "cell_type": "code",
   "execution_count": 3,
   "metadata": {
    "id": "zrHaVDV0GojV"
   },
   "outputs": [],
   "source": [
    "from collections import deque\n",
    "\n",
    "class ReplayBuffer:\n",
    "\n",
    "  def __init__(self, capacity):\n",
    "    self.buffer = deque(maxlen=capacity)\n",
    "\n",
    "  def __len__(self):\n",
    "    return len(self.buffer)\n",
    "\n",
    "  def append(self, experience):\n",
    "    self.buffer.append(experience)\n",
    "\n",
    "  def sample(self, batch_size):\n",
    "    return random.sample(self.buffer, batch_size)"
   ]
  },
  {
   "cell_type": "code",
   "execution_count": 4,
   "metadata": {
    "id": "JmjZ7tvfGpBA"
   },
   "outputs": [],
   "source": [
    "from gymnasium.wrappers import RecordVideo, TimeLimit\n",
    "\n",
    "def create_gym_environment(name, max_episode_steps=1000):\n",
    "  environment = gym.make(name, render_mode=\"rgb_array\", continuous=False)\n",
    "  environment = RecordVideo(environment, video_folder=f\"./{name}_recored_episodes\", episode_trigger=lambda x: x % 5 == 0)\n",
    "\n",
    "  return environment"
   ]
  },
  {
   "cell_type": "code",
   "execution_count": 5,
   "metadata": {
    "colab": {
     "base_uri": "https://localhost:8080/"
    },
    "id": "3f6ogBLZuzWg",
    "outputId": "5e2a73a1-e420-48b8-8a4f-0fabd3153d3b"
   },
   "outputs": [],
   "source": [
    "from torch.nn import ReLU, Conv2d, ReLU, Module, Flatten, AvgPool2d, Sequential, Linear\n",
    "import torch.autograd as autograd\n",
    "\n",
    "class ConvDuelingDQN(Module):\n",
    "\n",
    "    def __init__(self, hidden_size, input_dim, output_dim):\n",
    "        super(ConvDuelingDQN, self).__init__()\n",
    "        self.input_dim = input_dim\n",
    "        self.output_dim = output_dim\n",
    "        self.start_time = time.time()\n",
    "\n",
    "        self.conv = Sequential(\n",
    "            AvgPool2d(2),\n",
    "            Conv2d(3, 16, kernel_size=3, stride=2),\n",
    "            ReLU(),\n",
    "            Conv2d(16, 32, kernel_size=3, stride=2),\n",
    "            ReLU(),\n",
    "            Flatten()\n",
    "        )\n",
    "\n",
    "        self.fc_input_dim = 3872\n",
    "\n",
    "        self.value_stream = Sequential(\n",
    "            Linear(self.fc_input_dim, hidden_size),\n",
    "            ReLU(),\n",
    "            Linear(hidden_size, 1)\n",
    "        )\n",
    "\n",
    "        self.advantage_stream = Sequential(\n",
    "            Linear(self.fc_input_dim, hidden_size),\n",
    "            ReLU(),\n",
    "            Linear(hidden_size, self.output_dim)\n",
    "        )\n",
    "\n",
    "    def forward(self, state):\n",
    "        features = self.conv(state)\n",
    "        values = self.value_stream(features)\n",
    "        advantages = self.advantage_stream(features)\n",
    "        qvals = values + (advantages - advantages.mean())\n",
    "        return qvals"
   ]
  },
  {
   "cell_type": "code",
   "execution_count": 6,
   "metadata": {
    "id": "e9-QREClGuxG"
   },
   "outputs": [],
   "source": [
    "import time\n",
    "from torch.optim import AdamW\n",
    "from copy import deepcopy\n",
    "from torch.nn.functional import smooth_l1_loss\n",
    "\n",
    "class DeepQLearning():\n",
    "\n",
    "  def __init__(self, env_name, net=None, policy=epsilon_greedy, capacity=20_000,\n",
    "               batch_size=256, lr=1e-3, hidden_size=128, gamma=0.99,\n",
    "               loss_fn=smooth_l1_loss, optim=AdamW, eps_start=1.0, eps_end=0.15,\n",
    "               eps_last_episode=600, samples_per_epoch=1024, sync_rate=25, play_episode_rate=5):\n",
    "      self.env_name = env_name\n",
    "      self.env = create_gym_environment(env_name)\n",
    "\n",
    "      obs_size = self.env.observation_space.shape[0]\n",
    "      n_actions = self.env.action_space.n\n",
    "\n",
    "      self.q_net = net if net else ConvDuelingDQN(hidden_size, obs_size, n_actions)\n",
    "\n",
    "      self.optim = optim(self.q_net.parameters(), lr)\n",
    "      self.target_q_net = deepcopy(self.q_net)\n",
    "\n",
    "      self.policy = policy\n",
    "      self.buffer = ReplayBuffer(capacity=capacity)\n",
    "      self.loss_fn = loss_fn\n",
    "\n",
    "      self.gamma = gamma\n",
    "      self.batch_size = batch_size\n",
    "      self.eps_start = eps_start\n",
    "      self.eps_end = eps_end\n",
    "      self.eps_last_episode = eps_last_episode\n",
    "      self.sync_rate = sync_rate\n",
    "      self.samples_per_epoch = samples_per_epoch\n",
    "      self.lr = lr\n",
    "      self.play_episode_rate = play_episode_rate\n",
    "\n",
    "      self.current_epoch = 1\n",
    "      self.log = []\n",
    "      self.returns = []\n",
    "      self.episode_lengths = []\n",
    "      self.start_time = time.time()\n",
    "\n",
    "      while len(self.buffer) < self.samples_per_epoch:\n",
    "        self.play_episode(epsilon=1.0)\n",
    "\n",
    "  @torch.no_grad()\n",
    "  def play_episode(self, policy=None, epsilon=0.):\n",
    "      state = self.env.reset()[0]\n",
    "      state_v = torch.permute(torch.tensor(state), (2, 0, 1))/255.0\n",
    "      done = False\n",
    "      rewards = 0\n",
    "      epsiode_length = 0\n",
    "\n",
    "      while not done:\n",
    "        if policy:\n",
    "          action = policy(state_v.unsqueeze(0), self.env, self.q_net, epsilon=epsilon)\n",
    "        else:\n",
    "          action = self.env.action_space.sample()\n",
    "\n",
    "        next_state, reward, done1, done2, info = self.env.step(action)\n",
    "        done = done1 or done2\n",
    "\n",
    "        rewards += reward\n",
    "        epsiode_length += 1\n",
    "\n",
    "        next_state_v = torch.permute(torch.tensor(next_state), (2, 0, 1))/255.0\n",
    "        action_v = torch.tensor(action)\n",
    "        reward_v = torch.tensor(reward)\n",
    "        done_v = torch.tensor(done)\n",
    "        exp = (state_v, action_v, reward_v, done_v, next_state_v)\n",
    "\n",
    "        self.buffer.append(exp)\n",
    "        state = next_state\n",
    "      return rewards, epsiode_length\n",
    "\n",
    "  def forward(self, x):\n",
    "      return self.q_net(x)\n",
    "\n",
    "  def fit(self, n_epoch):\n",
    "      for epoch in range(n_epoch):\n",
    "        loss_total = 0\n",
    "        for _ in range(self.samples_per_epoch//self.batch_size):\n",
    "\n",
    "          loss = self.training_step()\n",
    "          loss_total += loss\n",
    "\n",
    "        last_return, episode_length  = self.training_epoch_end()\n",
    "\n",
    "        if last_return is not None:\n",
    "          self.returns.append(last_return)\n",
    "          self.episode_lengths.append(episode_length)\n",
    "          self.log.append([self.current_epoch, last_return, loss_total.item()])\n",
    "\n",
    "        if self.current_epoch % 25 == 0:\n",
    "          print(f\"Epoch: {self.current_epoch}, mean return: {np.mean(self.returns[-10:]):.2f}, \" \\\n",
    "           f\"mean episode length: {np.mean(self.episode_lengths[-10:])}, loss: {loss_total:.2f}\")\n",
    "\n",
    "\n",
    "  def training_step(self):\n",
    "      batch_T = self.buffer.sample(self.batch_size)\n",
    "      batch = list(map(torch.stack, zip(*batch_T)))\n",
    "\n",
    "      states, actions, rewards, dones, next_states = batch\n",
    "      actions = actions.unsqueeze(1)\n",
    "      rewards = rewards.unsqueeze(1)\n",
    "      dones = dones.unsqueeze(1)\n",
    "      state_action_values = self.q_net(states).gather(1, actions)\n",
    "\n",
    "      next_action_values, _ = self.target_q_net(next_states).max(dim=1, keepdim=True)\n",
    "      next_action_values[dones] = 0.0\n",
    "\n",
    "      expected_state_action_values = rewards + self.gamma * next_action_values\n",
    "      loss = self.loss_fn(state_action_values, expected_state_action_values)\n",
    "\n",
    "      self.optim.zero_grad()\n",
    "      loss.backward()\n",
    "      self.optim.step()\n",
    "      return loss\n",
    "\n",
    "\n",
    "  def training_epoch_end(self):\n",
    "      epsilon = max(self.eps_end, self.eps_start - self.current_epoch / self.eps_last_episode)\n",
    "\n",
    "      if self.current_epoch % self.play_episode_rate == 0:\n",
    "        last_return, episode_length = self.play_episode(policy=self.policy, epsilon=epsilon)\n",
    "      else:\n",
    "        last_return = None\n",
    "        episode_length = None\n",
    "\n",
    "      if self.current_epoch % self.sync_rate == 0:\n",
    "        self.target_q_net.load_state_dict(self.q_net.state_dict())\n",
    "      self.current_epoch += 1\n",
    "      return last_return, episode_length"
   ]
  },
  {
   "cell_type": "code",
   "execution_count": 7,
   "metadata": {
    "colab": {
     "base_uri": "https://localhost:8080/",
     "height": 345
    },
    "id": "-umP_Wy5vVdZ",
    "outputId": "19a2c5a6-3d87-4240-9211-1efcd6a1f370"
   },
   "outputs": [
    {
     "ename": "FileNotFoundError",
     "evalue": "[Errno 2] No such file or directory: '/content/CarRacing_qnet'",
     "output_type": "error",
     "traceback": [
      "\u001b[1;31m---------------------------------------------------------------------------\u001b[0m",
      "\u001b[1;31mFileNotFoundError\u001b[0m                         Traceback (most recent call last)",
      "Input \u001b[1;32mIn [7]\u001b[0m, in \u001b[0;36m<cell line: 4>\u001b[1;34m()\u001b[0m\n\u001b[0;32m      1\u001b[0m \u001b[38;5;28;01mimport\u001b[39;00m \u001b[38;5;21;01mshutil\u001b[39;00m\n\u001b[0;32m      3\u001b[0m shutil\u001b[38;5;241m.\u001b[39mrmtree(\u001b[38;5;124m\"\u001b[39m\u001b[38;5;124m/content/CarRacing-v2_recored_episodes\u001b[39m\u001b[38;5;124m\"\u001b[39m, ignore_errors\u001b[38;5;241m=\u001b[39m\u001b[38;5;28;01mTrue\u001b[39;00m)\n\u001b[1;32m----> 4\u001b[0m q_net \u001b[38;5;241m=\u001b[39m \u001b[43mtorch\u001b[49m\u001b[38;5;241;43m.\u001b[39;49m\u001b[43mload\u001b[49m\u001b[43m(\u001b[49m\u001b[38;5;124;43m\"\u001b[39;49m\u001b[38;5;124;43m/content/CarRacing_qnet\u001b[39;49m\u001b[38;5;124;43m\"\u001b[39;49m\u001b[43m)\u001b[49m\n",
      "File \u001b[1;32mc:\\users\\48722\\appdata\\local\\programs\\python\\python38\\lib\\site-packages\\torch\\serialization.py:771\u001b[0m, in \u001b[0;36mload\u001b[1;34m(f, map_location, pickle_module, weights_only, **pickle_load_args)\u001b[0m\n\u001b[0;32m    768\u001b[0m \u001b[38;5;28;01mif\u001b[39;00m \u001b[38;5;124m'\u001b[39m\u001b[38;5;124mencoding\u001b[39m\u001b[38;5;124m'\u001b[39m \u001b[38;5;129;01mnot\u001b[39;00m \u001b[38;5;129;01min\u001b[39;00m pickle_load_args\u001b[38;5;241m.\u001b[39mkeys():\n\u001b[0;32m    769\u001b[0m     pickle_load_args[\u001b[38;5;124m'\u001b[39m\u001b[38;5;124mencoding\u001b[39m\u001b[38;5;124m'\u001b[39m] \u001b[38;5;241m=\u001b[39m \u001b[38;5;124m'\u001b[39m\u001b[38;5;124mutf-8\u001b[39m\u001b[38;5;124m'\u001b[39m\n\u001b[1;32m--> 771\u001b[0m \u001b[38;5;28;01mwith\u001b[39;00m \u001b[43m_open_file_like\u001b[49m\u001b[43m(\u001b[49m\u001b[43mf\u001b[49m\u001b[43m,\u001b[49m\u001b[43m \u001b[49m\u001b[38;5;124;43m'\u001b[39;49m\u001b[38;5;124;43mrb\u001b[39;49m\u001b[38;5;124;43m'\u001b[39;49m\u001b[43m)\u001b[49m \u001b[38;5;28;01mas\u001b[39;00m opened_file:\n\u001b[0;32m    772\u001b[0m     \u001b[38;5;28;01mif\u001b[39;00m _is_zipfile(opened_file):\n\u001b[0;32m    773\u001b[0m         \u001b[38;5;66;03m# The zipfile reader is going to advance the current file position.\u001b[39;00m\n\u001b[0;32m    774\u001b[0m         \u001b[38;5;66;03m# If we want to actually tail call to torch.jit.load, we need to\u001b[39;00m\n\u001b[0;32m    775\u001b[0m         \u001b[38;5;66;03m# reset back to the original position.\u001b[39;00m\n\u001b[0;32m    776\u001b[0m         orig_position \u001b[38;5;241m=\u001b[39m opened_file\u001b[38;5;241m.\u001b[39mtell()\n",
      "File \u001b[1;32mc:\\users\\48722\\appdata\\local\\programs\\python\\python38\\lib\\site-packages\\torch\\serialization.py:270\u001b[0m, in \u001b[0;36m_open_file_like\u001b[1;34m(name_or_buffer, mode)\u001b[0m\n\u001b[0;32m    268\u001b[0m \u001b[38;5;28;01mdef\u001b[39;00m \u001b[38;5;21m_open_file_like\u001b[39m(name_or_buffer, mode):\n\u001b[0;32m    269\u001b[0m     \u001b[38;5;28;01mif\u001b[39;00m _is_path(name_or_buffer):\n\u001b[1;32m--> 270\u001b[0m         \u001b[38;5;28;01mreturn\u001b[39;00m \u001b[43m_open_file\u001b[49m\u001b[43m(\u001b[49m\u001b[43mname_or_buffer\u001b[49m\u001b[43m,\u001b[49m\u001b[43m \u001b[49m\u001b[43mmode\u001b[49m\u001b[43m)\u001b[49m\n\u001b[0;32m    271\u001b[0m     \u001b[38;5;28;01melse\u001b[39;00m:\n\u001b[0;32m    272\u001b[0m         \u001b[38;5;28;01mif\u001b[39;00m \u001b[38;5;124m'\u001b[39m\u001b[38;5;124mw\u001b[39m\u001b[38;5;124m'\u001b[39m \u001b[38;5;129;01min\u001b[39;00m mode:\n",
      "File \u001b[1;32mc:\\users\\48722\\appdata\\local\\programs\\python\\python38\\lib\\site-packages\\torch\\serialization.py:251\u001b[0m, in \u001b[0;36m_open_file.__init__\u001b[1;34m(self, name, mode)\u001b[0m\n\u001b[0;32m    250\u001b[0m \u001b[38;5;28;01mdef\u001b[39;00m \u001b[38;5;21m__init__\u001b[39m(\u001b[38;5;28mself\u001b[39m, name, mode):\n\u001b[1;32m--> 251\u001b[0m     \u001b[38;5;28msuper\u001b[39m(_open_file, \u001b[38;5;28mself\u001b[39m)\u001b[38;5;241m.\u001b[39m\u001b[38;5;21m__init__\u001b[39m(\u001b[38;5;28;43mopen\u001b[39;49m\u001b[43m(\u001b[49m\u001b[43mname\u001b[49m\u001b[43m,\u001b[49m\u001b[43m \u001b[49m\u001b[43mmode\u001b[49m\u001b[43m)\u001b[49m)\n",
      "\u001b[1;31mFileNotFoundError\u001b[0m: [Errno 2] No such file or directory: '/content/CarRacing_qnet'"
     ]
    }
   ],
   "source": [
    "import shutil\n",
    "\n",
    "shutil.rmtree(\"/content/CarRacing-v2_recored_episodes\", ignore_errors=True)\n",
    "q_net = torch.load(\"/content/CarRacing_qnet\")"
   ]
  },
  {
   "cell_type": "code",
   "execution_count": 8,
   "metadata": {
    "colab": {
     "base_uri": "https://localhost:8080/"
    },
    "id": "Qv6Ay46BMjN0",
    "outputId": "41db073c-b2d8-4a42-9361-2931cd6caee6",
    "scrolled": false
   },
   "outputs": [
    {
     "name": "stderr",
     "output_type": "stream",
     "text": [
      "c:\\users\\48722\\appdata\\local\\programs\\python\\python38\\lib\\site-packages\\gymnasium\\wrappers\\record_video.py:87: UserWarning: \u001b[33mWARN: Overwriting existing videos at C:\\Users\\48722\\Desktop\\RL\\CarRacing-v2_recored_episodes folder (try specifying a different `video_folder` for the `RecordVideo` wrapper if this is not desired)\u001b[0m\n",
      "  logger.warn(\n"
     ]
    },
    {
     "name": "stdout",
     "output_type": "stream",
     "text": [
      "Moviepy - Building video C:\\Users\\48722\\Desktop\\RL\\CarRacing-v2_recored_episodes\\rl-video-episode-0.mp4.\n",
      "Moviepy - Writing video C:\\Users\\48722\\Desktop\\RL\\CarRacing-v2_recored_episodes\\rl-video-episode-0.mp4\n",
      "\n"
     ]
    },
    {
     "name": "stderr",
     "output_type": "stream",
     "text": [
      "                                                                                                                       \r"
     ]
    },
    {
     "name": "stdout",
     "output_type": "stream",
     "text": [
      "Moviepy - Done !\n",
      "Moviepy - video ready C:\\Users\\48722\\Desktop\\RL\\CarRacing-v2_recored_episodes\\rl-video-episode-0.mp4\n",
      "Epoch: 25, mean return: -53.28, mean episode length: 1000.0, loss: 0.15\n",
      "Moviepy - Building video C:\\Users\\48722\\Desktop\\RL\\CarRacing-v2_recored_episodes\\rl-video-episode-5.mp4.\n",
      "Moviepy - Writing video C:\\Users\\48722\\Desktop\\RL\\CarRacing-v2_recored_episodes\\rl-video-episode-5.mp4\n",
      "\n"
     ]
    },
    {
     "name": "stderr",
     "output_type": "stream",
     "text": [
      "                                                                                                                       \r"
     ]
    },
    {
     "name": "stdout",
     "output_type": "stream",
     "text": [
      "Moviepy - Done !\n",
      "Moviepy - video ready C:\\Users\\48722\\Desktop\\RL\\CarRacing-v2_recored_episodes\\rl-video-episode-5.mp4\n",
      "Epoch: 50, mean return: -52.70, mean episode length: 1000.0, loss: 0.21\n",
      "Moviepy - Building video C:\\Users\\48722\\Desktop\\RL\\CarRacing-v2_recored_episodes\\rl-video-episode-10.mp4.\n",
      "Moviepy - Writing video C:\\Users\\48722\\Desktop\\RL\\CarRacing-v2_recored_episodes\\rl-video-episode-10.mp4\n",
      "\n"
     ]
    },
    {
     "name": "stderr",
     "output_type": "stream",
     "text": [
      "                                                                                                                       \r"
     ]
    },
    {
     "name": "stdout",
     "output_type": "stream",
     "text": [
      "Moviepy - Done !\n",
      "Moviepy - video ready C:\\Users\\48722\\Desktop\\RL\\CarRacing-v2_recored_episodes\\rl-video-episode-10.mp4\n",
      "Epoch: 75, mean return: -53.48, mean episode length: 1000.0, loss: 0.09\n",
      "Moviepy - Building video C:\\Users\\48722\\Desktop\\RL\\CarRacing-v2_recored_episodes\\rl-video-episode-15.mp4.\n",
      "Moviepy - Writing video C:\\Users\\48722\\Desktop\\RL\\CarRacing-v2_recored_episodes\\rl-video-episode-15.mp4\n",
      "\n"
     ]
    },
    {
     "name": "stderr",
     "output_type": "stream",
     "text": [
      "                                                                                                                       \r"
     ]
    },
    {
     "name": "stdout",
     "output_type": "stream",
     "text": [
      "Moviepy - Done !\n",
      "Moviepy - video ready C:\\Users\\48722\\Desktop\\RL\\CarRacing-v2_recored_episodes\\rl-video-episode-15.mp4\n",
      "Epoch: 100, mean return: -57.86, mean episode length: 1000.0, loss: 0.15\n",
      "Moviepy - Building video C:\\Users\\48722\\Desktop\\RL\\CarRacing-v2_recored_episodes\\rl-video-episode-20.mp4.\n",
      "Moviepy - Writing video C:\\Users\\48722\\Desktop\\RL\\CarRacing-v2_recored_episodes\\rl-video-episode-20.mp4\n",
      "\n"
     ]
    },
    {
     "name": "stderr",
     "output_type": "stream",
     "text": [
      "                                                                                                                       \r"
     ]
    },
    {
     "name": "stdout",
     "output_type": "stream",
     "text": [
      "Moviepy - Done !\n",
      "Moviepy - video ready C:\\Users\\48722\\Desktop\\RL\\CarRacing-v2_recored_episodes\\rl-video-episode-20.mp4\n",
      "Epoch: 125, mean return: -59.17, mean episode length: 1000.0, loss: 0.21\n",
      "Moviepy - Building video C:\\Users\\48722\\Desktop\\RL\\CarRacing-v2_recored_episodes\\rl-video-episode-25.mp4.\n",
      "Moviepy - Writing video C:\\Users\\48722\\Desktop\\RL\\CarRacing-v2_recored_episodes\\rl-video-episode-25.mp4\n",
      "\n"
     ]
    },
    {
     "name": "stderr",
     "output_type": "stream",
     "text": [
      "                                                                                                                       \r"
     ]
    },
    {
     "name": "stdout",
     "output_type": "stream",
     "text": [
      "Moviepy - Done !\n",
      "Moviepy - video ready C:\\Users\\48722\\Desktop\\RL\\CarRacing-v2_recored_episodes\\rl-video-episode-25.mp4\n",
      "Epoch: 150, mean return: -54.61, mean episode length: 1000.0, loss: 0.05\n",
      "Moviepy - Building video C:\\Users\\48722\\Desktop\\RL\\CarRacing-v2_recored_episodes\\rl-video-episode-30.mp4.\n",
      "Moviepy - Writing video C:\\Users\\48722\\Desktop\\RL\\CarRacing-v2_recored_episodes\\rl-video-episode-30.mp4\n",
      "\n"
     ]
    },
    {
     "name": "stderr",
     "output_type": "stream",
     "text": [
      "                                                                                                                       \r"
     ]
    },
    {
     "name": "stdout",
     "output_type": "stream",
     "text": [
      "Moviepy - Done !\n",
      "Moviepy - video ready C:\\Users\\48722\\Desktop\\RL\\CarRacing-v2_recored_episodes\\rl-video-episode-30.mp4\n",
      "Epoch: 175, mean return: -52.10, mean episode length: 1000.0, loss: 0.19\n",
      "Moviepy - Building video C:\\Users\\48722\\Desktop\\RL\\CarRacing-v2_recored_episodes\\rl-video-episode-35.mp4.\n",
      "Moviepy - Writing video C:\\Users\\48722\\Desktop\\RL\\CarRacing-v2_recored_episodes\\rl-video-episode-35.mp4\n",
      "\n"
     ]
    },
    {
     "name": "stderr",
     "output_type": "stream",
     "text": [
      "                                                                                                                       \r"
     ]
    },
    {
     "name": "stdout",
     "output_type": "stream",
     "text": [
      "Moviepy - Done !\n",
      "Moviepy - video ready C:\\Users\\48722\\Desktop\\RL\\CarRacing-v2_recored_episodes\\rl-video-episode-35.mp4\n",
      "Epoch: 200, mean return: -54.41, mean episode length: 1000.0, loss: 0.09\n",
      "Moviepy - Building video C:\\Users\\48722\\Desktop\\RL\\CarRacing-v2_recored_episodes\\rl-video-episode-40.mp4.\n",
      "Moviepy - Writing video C:\\Users\\48722\\Desktop\\RL\\CarRacing-v2_recored_episodes\\rl-video-episode-40.mp4\n",
      "\n"
     ]
    },
    {
     "name": "stderr",
     "output_type": "stream",
     "text": [
      "                                                                                                                       \r"
     ]
    },
    {
     "name": "stdout",
     "output_type": "stream",
     "text": [
      "Moviepy - Done !\n",
      "Moviepy - video ready C:\\Users\\48722\\Desktop\\RL\\CarRacing-v2_recored_episodes\\rl-video-episode-40.mp4\n",
      "Epoch: 225, mean return: -59.02, mean episode length: 1000.0, loss: 0.22\n",
      "Moviepy - Building video C:\\Users\\48722\\Desktop\\RL\\CarRacing-v2_recored_episodes\\rl-video-episode-45.mp4.\n",
      "Moviepy - Writing video C:\\Users\\48722\\Desktop\\RL\\CarRacing-v2_recored_episodes\\rl-video-episode-45.mp4\n",
      "\n"
     ]
    },
    {
     "name": "stderr",
     "output_type": "stream",
     "text": [
      "                                                                                                                       \r"
     ]
    },
    {
     "name": "stdout",
     "output_type": "stream",
     "text": [
      "Moviepy - Done !\n",
      "Moviepy - video ready C:\\Users\\48722\\Desktop\\RL\\CarRacing-v2_recored_episodes\\rl-video-episode-45.mp4\n",
      "Epoch: 250, mean return: -60.70, mean episode length: 1000.0, loss: 0.18\n",
      "Moviepy - Building video C:\\Users\\48722\\Desktop\\RL\\CarRacing-v2_recored_episodes\\rl-video-episode-50.mp4.\n",
      "Moviepy - Writing video C:\\Users\\48722\\Desktop\\RL\\CarRacing-v2_recored_episodes\\rl-video-episode-50.mp4\n",
      "\n"
     ]
    },
    {
     "name": "stderr",
     "output_type": "stream",
     "text": [
      "                                                                                                                       \r"
     ]
    },
    {
     "name": "stdout",
     "output_type": "stream",
     "text": [
      "Moviepy - Done !\n",
      "Moviepy - video ready C:\\Users\\48722\\Desktop\\RL\\CarRacing-v2_recored_episodes\\rl-video-episode-50.mp4\n",
      "Epoch: 275, mean return: -48.84, mean episode length: 1000.0, loss: 0.03\n",
      "Moviepy - Building video C:\\Users\\48722\\Desktop\\RL\\CarRacing-v2_recored_episodes\\rl-video-episode-55.mp4.\n",
      "Moviepy - Writing video C:\\Users\\48722\\Desktop\\RL\\CarRacing-v2_recored_episodes\\rl-video-episode-55.mp4\n",
      "\n"
     ]
    },
    {
     "name": "stderr",
     "output_type": "stream",
     "text": [
      "                                                                                                                       \r"
     ]
    },
    {
     "name": "stdout",
     "output_type": "stream",
     "text": [
      "Moviepy - Done !\n",
      "Moviepy - video ready C:\\Users\\48722\\Desktop\\RL\\CarRacing-v2_recored_episodes\\rl-video-episode-55.mp4\n",
      "Epoch: 300, mean return: -40.85, mean episode length: 1000.0, loss: 0.16\n",
      "Moviepy - Building video C:\\Users\\48722\\Desktop\\RL\\CarRacing-v2_recored_episodes\\rl-video-episode-60.mp4.\n",
      "Moviepy - Writing video C:\\Users\\48722\\Desktop\\RL\\CarRacing-v2_recored_episodes\\rl-video-episode-60.mp4\n",
      "\n"
     ]
    },
    {
     "name": "stderr",
     "output_type": "stream",
     "text": [
      "                                                                                                                       \r"
     ]
    },
    {
     "name": "stdout",
     "output_type": "stream",
     "text": [
      "Moviepy - Done !\n",
      "Moviepy - video ready C:\\Users\\48722\\Desktop\\RL\\CarRacing-v2_recored_episodes\\rl-video-episode-60.mp4\n",
      "Epoch: 325, mean return: -48.57, mean episode length: 1000.0, loss: 0.16\n",
      "Moviepy - Building video C:\\Users\\48722\\Desktop\\RL\\CarRacing-v2_recored_episodes\\rl-video-episode-65.mp4.\n",
      "Moviepy - Writing video C:\\Users\\48722\\Desktop\\RL\\CarRacing-v2_recored_episodes\\rl-video-episode-65.mp4\n",
      "\n"
     ]
    },
    {
     "name": "stderr",
     "output_type": "stream",
     "text": [
      "                                                                                                                       \r"
     ]
    },
    {
     "name": "stdout",
     "output_type": "stream",
     "text": [
      "Moviepy - Done !\n",
      "Moviepy - video ready C:\\Users\\48722\\Desktop\\RL\\CarRacing-v2_recored_episodes\\rl-video-episode-65.mp4\n",
      "Epoch: 350, mean return: -50.87, mean episode length: 1000.0, loss: 0.12\n",
      "Moviepy - Building video C:\\Users\\48722\\Desktop\\RL\\CarRacing-v2_recored_episodes\\rl-video-episode-70.mp4.\n",
      "Moviepy - Writing video C:\\Users\\48722\\Desktop\\RL\\CarRacing-v2_recored_episodes\\rl-video-episode-70.mp4\n",
      "\n"
     ]
    },
    {
     "name": "stderr",
     "output_type": "stream",
     "text": [
      "                                                                                                                       \r"
     ]
    },
    {
     "name": "stdout",
     "output_type": "stream",
     "text": [
      "Moviepy - Done !\n",
      "Moviepy - video ready C:\\Users\\48722\\Desktop\\RL\\CarRacing-v2_recored_episodes\\rl-video-episode-70.mp4\n",
      "Epoch: 375, mean return: -50.69, mean episode length: 1000.0, loss: 0.17\n",
      "Moviepy - Building video C:\\Users\\48722\\Desktop\\RL\\CarRacing-v2_recored_episodes\\rl-video-episode-75.mp4.\n",
      "Moviepy - Writing video C:\\Users\\48722\\Desktop\\RL\\CarRacing-v2_recored_episodes\\rl-video-episode-75.mp4\n",
      "\n"
     ]
    },
    {
     "name": "stderr",
     "output_type": "stream",
     "text": [
      "                                                                                                                       \r"
     ]
    },
    {
     "name": "stdout",
     "output_type": "stream",
     "text": [
      "Moviepy - Done !\n",
      "Moviepy - video ready C:\\Users\\48722\\Desktop\\RL\\CarRacing-v2_recored_episodes\\rl-video-episode-75.mp4\n",
      "Epoch: 400, mean return: -55.81, mean episode length: 1000.0, loss: 0.18\n",
      "Moviepy - Building video C:\\Users\\48722\\Desktop\\RL\\CarRacing-v2_recored_episodes\\rl-video-episode-80.mp4.\n",
      "Moviepy - Writing video C:\\Users\\48722\\Desktop\\RL\\CarRacing-v2_recored_episodes\\rl-video-episode-80.mp4\n",
      "\n"
     ]
    },
    {
     "name": "stderr",
     "output_type": "stream",
     "text": [
      "                                                                                                                       \r"
     ]
    },
    {
     "name": "stdout",
     "output_type": "stream",
     "text": [
      "Moviepy - Done !\n",
      "Moviepy - video ready C:\\Users\\48722\\Desktop\\RL\\CarRacing-v2_recored_episodes\\rl-video-episode-80.mp4\n",
      "Epoch: 425, mean return: -45.33, mean episode length: 1000.0, loss: 0.28\n",
      "Moviepy - Building video C:\\Users\\48722\\Desktop\\RL\\CarRacing-v2_recored_episodes\\rl-video-episode-85.mp4.\n",
      "Moviepy - Writing video C:\\Users\\48722\\Desktop\\RL\\CarRacing-v2_recored_episodes\\rl-video-episode-85.mp4\n",
      "\n"
     ]
    },
    {
     "name": "stderr",
     "output_type": "stream",
     "text": [
      "                                                                                                                       \r"
     ]
    },
    {
     "name": "stdout",
     "output_type": "stream",
     "text": [
      "Moviepy - Done !\n",
      "Moviepy - video ready C:\\Users\\48722\\Desktop\\RL\\CarRacing-v2_recored_episodes\\rl-video-episode-85.mp4\n",
      "Epoch: 450, mean return: -35.77, mean episode length: 1000.0, loss: 0.35\n",
      "Moviepy - Building video C:\\Users\\48722\\Desktop\\RL\\CarRacing-v2_recored_episodes\\rl-video-episode-90.mp4.\n",
      "Moviepy - Writing video C:\\Users\\48722\\Desktop\\RL\\CarRacing-v2_recored_episodes\\rl-video-episode-90.mp4\n",
      "\n"
     ]
    },
    {
     "name": "stderr",
     "output_type": "stream",
     "text": [
      "                                                                                                                       \r"
     ]
    },
    {
     "name": "stdout",
     "output_type": "stream",
     "text": [
      "Moviepy - Done !\n",
      "Moviepy - video ready C:\\Users\\48722\\Desktop\\RL\\CarRacing-v2_recored_episodes\\rl-video-episode-90.mp4\n",
      "Epoch: 475, mean return: -40.10, mean episode length: 1000.0, loss: 0.31\n",
      "Moviepy - Building video C:\\Users\\48722\\Desktop\\RL\\CarRacing-v2_recored_episodes\\rl-video-episode-95.mp4.\n",
      "Moviepy - Writing video C:\\Users\\48722\\Desktop\\RL\\CarRacing-v2_recored_episodes\\rl-video-episode-95.mp4\n",
      "\n"
     ]
    },
    {
     "name": "stderr",
     "output_type": "stream",
     "text": [
      "                                                                                                                       \r"
     ]
    },
    {
     "name": "stdout",
     "output_type": "stream",
     "text": [
      "Moviepy - Done !\n",
      "Moviepy - video ready C:\\Users\\48722\\Desktop\\RL\\CarRacing-v2_recored_episodes\\rl-video-episode-95.mp4\n",
      "Epoch: 500, mean return: -38.38, mean episode length: 1000.0, loss: 0.26\n",
      "Moviepy - Building video C:\\Users\\48722\\Desktop\\RL\\CarRacing-v2_recored_episodes\\rl-video-episode-100.mp4.\n",
      "Moviepy - Writing video C:\\Users\\48722\\Desktop\\RL\\CarRacing-v2_recored_episodes\\rl-video-episode-100.mp4\n",
      "\n"
     ]
    },
    {
     "name": "stderr",
     "output_type": "stream",
     "text": [
      "                                                                                                                       \r"
     ]
    },
    {
     "name": "stdout",
     "output_type": "stream",
     "text": [
      "Moviepy - Done !\n",
      "Moviepy - video ready C:\\Users\\48722\\Desktop\\RL\\CarRacing-v2_recored_episodes\\rl-video-episode-100.mp4\n",
      "Epoch: 525, mean return: -33.63, mean episode length: 1000.0, loss: 0.22\n",
      "Moviepy - Building video C:\\Users\\48722\\Desktop\\RL\\CarRacing-v2_recored_episodes\\rl-video-episode-105.mp4.\n",
      "Moviepy - Writing video C:\\Users\\48722\\Desktop\\RL\\CarRacing-v2_recored_episodes\\rl-video-episode-105.mp4\n",
      "\n"
     ]
    },
    {
     "name": "stderr",
     "output_type": "stream",
     "text": [
      "                                                                                                                       \r"
     ]
    },
    {
     "name": "stdout",
     "output_type": "stream",
     "text": [
      "Moviepy - Done !\n",
      "Moviepy - video ready C:\\Users\\48722\\Desktop\\RL\\CarRacing-v2_recored_episodes\\rl-video-episode-105.mp4\n",
      "Epoch: 550, mean return: -35.76, mean episode length: 1000.0, loss: 0.23\n",
      "Moviepy - Building video C:\\Users\\48722\\Desktop\\RL\\CarRacing-v2_recored_episodes\\rl-video-episode-110.mp4.\n",
      "Moviepy - Writing video C:\\Users\\48722\\Desktop\\RL\\CarRacing-v2_recored_episodes\\rl-video-episode-110.mp4\n",
      "\n"
     ]
    },
    {
     "name": "stderr",
     "output_type": "stream",
     "text": [
      "                                                                                                                       \r"
     ]
    },
    {
     "name": "stdout",
     "output_type": "stream",
     "text": [
      "Moviepy - Done !\n",
      "Moviepy - video ready C:\\Users\\48722\\Desktop\\RL\\CarRacing-v2_recored_episodes\\rl-video-episode-110.mp4\n",
      "Epoch: 575, mean return: -56.77, mean episode length: 1000.0, loss: 0.18\n",
      "Moviepy - Building video C:\\Users\\48722\\Desktop\\RL\\CarRacing-v2_recored_episodes\\rl-video-episode-115.mp4.\n",
      "Moviepy - Writing video C:\\Users\\48722\\Desktop\\RL\\CarRacing-v2_recored_episodes\\rl-video-episode-115.mp4\n",
      "\n"
     ]
    },
    {
     "name": "stderr",
     "output_type": "stream",
     "text": [
      "                                                                                                                       \r"
     ]
    },
    {
     "name": "stdout",
     "output_type": "stream",
     "text": [
      "Moviepy - Done !\n",
      "Moviepy - video ready C:\\Users\\48722\\Desktop\\RL\\CarRacing-v2_recored_episodes\\rl-video-episode-115.mp4\n",
      "Epoch: 600, mean return: -54.07, mean episode length: 1000.0, loss: 0.11\n",
      "Moviepy - Building video C:\\Users\\48722\\Desktop\\RL\\CarRacing-v2_recored_episodes\\rl-video-episode-120.mp4.\n",
      "Moviepy - Writing video C:\\Users\\48722\\Desktop\\RL\\CarRacing-v2_recored_episodes\\rl-video-episode-120.mp4\n",
      "\n"
     ]
    },
    {
     "name": "stderr",
     "output_type": "stream",
     "text": [
      "                                                                                                                       \r"
     ]
    },
    {
     "name": "stdout",
     "output_type": "stream",
     "text": [
      "Moviepy - Done !\n",
      "Moviepy - video ready C:\\Users\\48722\\Desktop\\RL\\CarRacing-v2_recored_episodes\\rl-video-episode-120.mp4\n",
      "Epoch: 625, mean return: -26.45, mean episode length: 1000.0, loss: 0.12\n",
      "Moviepy - Building video C:\\Users\\48722\\Desktop\\RL\\CarRacing-v2_recored_episodes\\rl-video-episode-125.mp4.\n",
      "Moviepy - Writing video C:\\Users\\48722\\Desktop\\RL\\CarRacing-v2_recored_episodes\\rl-video-episode-125.mp4\n",
      "\n"
     ]
    },
    {
     "name": "stderr",
     "output_type": "stream",
     "text": [
      "                                                                                                                       \r"
     ]
    },
    {
     "name": "stdout",
     "output_type": "stream",
     "text": [
      "Moviepy - Done !\n",
      "Moviepy - video ready C:\\Users\\48722\\Desktop\\RL\\CarRacing-v2_recored_episodes\\rl-video-episode-125.mp4\n",
      "Epoch: 650, mean return: -31.49, mean episode length: 1000.0, loss: 0.21\n",
      "Moviepy - Building video C:\\Users\\48722\\Desktop\\RL\\CarRacing-v2_recored_episodes\\rl-video-episode-130.mp4.\n",
      "Moviepy - Writing video C:\\Users\\48722\\Desktop\\RL\\CarRacing-v2_recored_episodes\\rl-video-episode-130.mp4\n",
      "\n"
     ]
    },
    {
     "name": "stderr",
     "output_type": "stream",
     "text": [
      "                                                                                                                       \r"
     ]
    },
    {
     "name": "stdout",
     "output_type": "stream",
     "text": [
      "Moviepy - Done !\n",
      "Moviepy - video ready C:\\Users\\48722\\Desktop\\RL\\CarRacing-v2_recored_episodes\\rl-video-episode-130.mp4\n",
      "Epoch: 675, mean return: -60.58, mean episode length: 1000.0, loss: 0.27\n",
      "Moviepy - Building video C:\\Users\\48722\\Desktop\\RL\\CarRacing-v2_recored_episodes\\rl-video-episode-135.mp4.\n",
      "Moviepy - Writing video C:\\Users\\48722\\Desktop\\RL\\CarRacing-v2_recored_episodes\\rl-video-episode-135.mp4\n",
      "\n"
     ]
    },
    {
     "name": "stderr",
     "output_type": "stream",
     "text": [
      "                                                                                                                       \r"
     ]
    },
    {
     "name": "stdout",
     "output_type": "stream",
     "text": [
      "Moviepy - Done !\n",
      "Moviepy - video ready C:\\Users\\48722\\Desktop\\RL\\CarRacing-v2_recored_episodes\\rl-video-episode-135.mp4\n",
      "Epoch: 700, mean return: -66.67, mean episode length: 1000.0, loss: 0.19\n",
      "Moviepy - Building video C:\\Users\\48722\\Desktop\\RL\\CarRacing-v2_recored_episodes\\rl-video-episode-140.mp4.\n",
      "Moviepy - Writing video C:\\Users\\48722\\Desktop\\RL\\CarRacing-v2_recored_episodes\\rl-video-episode-140.mp4\n",
      "\n"
     ]
    },
    {
     "name": "stderr",
     "output_type": "stream",
     "text": [
      "                                                                                                                       \r"
     ]
    },
    {
     "name": "stdout",
     "output_type": "stream",
     "text": [
      "Moviepy - Done !\n",
      "Moviepy - video ready C:\\Users\\48722\\Desktop\\RL\\CarRacing-v2_recored_episodes\\rl-video-episode-140.mp4\n",
      "Epoch: 725, mean return: -48.21, mean episode length: 978.7, loss: 0.17\n",
      "Moviepy - Building video C:\\Users\\48722\\Desktop\\RL\\CarRacing-v2_recored_episodes\\rl-video-episode-145.mp4.\n",
      "Moviepy - Writing video C:\\Users\\48722\\Desktop\\RL\\CarRacing-v2_recored_episodes\\rl-video-episode-145.mp4\n",
      "\n"
     ]
    },
    {
     "name": "stderr",
     "output_type": "stream",
     "text": [
      "                                                                                                                       \r"
     ]
    },
    {
     "name": "stdout",
     "output_type": "stream",
     "text": [
      "Moviepy - Done !\n",
      "Moviepy - video ready C:\\Users\\48722\\Desktop\\RL\\CarRacing-v2_recored_episodes\\rl-video-episode-145.mp4\n",
      "Epoch: 750, mean return: -45.04, mean episode length: 940.1, loss: 0.24\n",
      "Moviepy - Building video C:\\Users\\48722\\Desktop\\RL\\CarRacing-v2_recored_episodes\\rl-video-episode-150.mp4.\n",
      "Moviepy - Writing video C:\\Users\\48722\\Desktop\\RL\\CarRacing-v2_recored_episodes\\rl-video-episode-150.mp4\n",
      "\n"
     ]
    },
    {
     "name": "stderr",
     "output_type": "stream",
     "text": [
      "                                                                                                                       \r"
     ]
    },
    {
     "name": "stdout",
     "output_type": "stream",
     "text": [
      "Moviepy - Done !\n",
      "Moviepy - video ready C:\\Users\\48722\\Desktop\\RL\\CarRacing-v2_recored_episodes\\rl-video-episode-150.mp4\n",
      "Epoch: 775, mean return: -51.44, mean episode length: 961.4, loss: 0.21\n",
      "Moviepy - Building video C:\\Users\\48722\\Desktop\\RL\\CarRacing-v2_recored_episodes\\rl-video-episode-155.mp4.\n",
      "Moviepy - Writing video C:\\Users\\48722\\Desktop\\RL\\CarRacing-v2_recored_episodes\\rl-video-episode-155.mp4\n",
      "\n"
     ]
    },
    {
     "name": "stderr",
     "output_type": "stream",
     "text": [
      "                                                                                                                       \r"
     ]
    },
    {
     "name": "stdout",
     "output_type": "stream",
     "text": [
      "Moviepy - Done !\n",
      "Moviepy - video ready C:\\Users\\48722\\Desktop\\RL\\CarRacing-v2_recored_episodes\\rl-video-episode-155.mp4\n",
      "Epoch: 800, mean return: -49.23, mean episode length: 973.6, loss: 0.21\n",
      "Moviepy - Building video C:\\Users\\48722\\Desktop\\RL\\CarRacing-v2_recored_episodes\\rl-video-episode-160.mp4.\n",
      "Moviepy - Writing video C:\\Users\\48722\\Desktop\\RL\\CarRacing-v2_recored_episodes\\rl-video-episode-160.mp4\n",
      "\n"
     ]
    },
    {
     "name": "stderr",
     "output_type": "stream",
     "text": [
      "                                                                                                                       \r"
     ]
    },
    {
     "name": "stdout",
     "output_type": "stream",
     "text": [
      "Moviepy - Done !\n",
      "Moviepy - video ready C:\\Users\\48722\\Desktop\\RL\\CarRacing-v2_recored_episodes\\rl-video-episode-160.mp4\n",
      "Epoch: 825, mean return: -60.73, mean episode length: 959.8, loss: 0.14\n",
      "Moviepy - Building video C:\\Users\\48722\\Desktop\\RL\\CarRacing-v2_recored_episodes\\rl-video-episode-165.mp4.\n",
      "Moviepy - Writing video C:\\Users\\48722\\Desktop\\RL\\CarRacing-v2_recored_episodes\\rl-video-episode-165.mp4\n",
      "\n"
     ]
    },
    {
     "name": "stderr",
     "output_type": "stream",
     "text": [
      "                                                                                                                       \r"
     ]
    },
    {
     "name": "stdout",
     "output_type": "stream",
     "text": [
      "Moviepy - Done !\n",
      "Moviepy - video ready C:\\Users\\48722\\Desktop\\RL\\CarRacing-v2_recored_episodes\\rl-video-episode-165.mp4\n",
      "Epoch: 850, mean return: -73.51, mean episode length: 940.9, loss: 0.27\n",
      "Moviepy - Building video C:\\Users\\48722\\Desktop\\RL\\CarRacing-v2_recored_episodes\\rl-video-episode-170.mp4.\n",
      "Moviepy - Writing video C:\\Users\\48722\\Desktop\\RL\\CarRacing-v2_recored_episodes\\rl-video-episode-170.mp4\n",
      "\n"
     ]
    },
    {
     "name": "stderr",
     "output_type": "stream",
     "text": [
      "                                                                                                                       \r"
     ]
    },
    {
     "name": "stdout",
     "output_type": "stream",
     "text": [
      "Moviepy - Done !\n",
      "Moviepy - video ready C:\\Users\\48722\\Desktop\\RL\\CarRacing-v2_recored_episodes\\rl-video-episode-170.mp4\n",
      "Epoch: 875, mean return: -63.30, mean episode length: 847.8, loss: 0.20\n",
      "Moviepy - Building video C:\\Users\\48722\\Desktop\\RL\\CarRacing-v2_recored_episodes\\rl-video-episode-175.mp4.\n",
      "Moviepy - Writing video C:\\Users\\48722\\Desktop\\RL\\CarRacing-v2_recored_episodes\\rl-video-episode-175.mp4\n",
      "\n"
     ]
    },
    {
     "name": "stderr",
     "output_type": "stream",
     "text": [
      "                                                                                                                       \r"
     ]
    },
    {
     "name": "stdout",
     "output_type": "stream",
     "text": [
      "Moviepy - Done !\n",
      "Moviepy - video ready C:\\Users\\48722\\Desktop\\RL\\CarRacing-v2_recored_episodes\\rl-video-episode-175.mp4\n",
      "Epoch: 900, mean return: -75.20, mean episode length: 797.1, loss: 0.25\n",
      "Moviepy - Building video C:\\Users\\48722\\Desktop\\RL\\CarRacing-v2_recored_episodes\\rl-video-episode-180.mp4.\n",
      "Moviepy - Writing video C:\\Users\\48722\\Desktop\\RL\\CarRacing-v2_recored_episodes\\rl-video-episode-180.mp4\n",
      "\n"
     ]
    },
    {
     "name": "stderr",
     "output_type": "stream",
     "text": [
      "                                                                                                                       \r"
     ]
    },
    {
     "name": "stdout",
     "output_type": "stream",
     "text": [
      "Moviepy - Done !\n",
      "Moviepy - video ready C:\\Users\\48722\\Desktop\\RL\\CarRacing-v2_recored_episodes\\rl-video-episode-180.mp4\n",
      "Epoch: 925, mean return: -81.80, mean episode length: 694.1, loss: 1.17\n",
      "Moviepy - Building video C:\\Users\\48722\\Desktop\\RL\\CarRacing-v2_recored_episodes\\rl-video-episode-185.mp4.\n",
      "Moviepy - Writing video C:\\Users\\48722\\Desktop\\RL\\CarRacing-v2_recored_episodes\\rl-video-episode-185.mp4\n",
      "\n"
     ]
    },
    {
     "name": "stderr",
     "output_type": "stream",
     "text": [
      "                                                                                                                       \r"
     ]
    },
    {
     "name": "stdout",
     "output_type": "stream",
     "text": [
      "Moviepy - Done !\n",
      "Moviepy - video ready C:\\Users\\48722\\Desktop\\RL\\CarRacing-v2_recored_episodes\\rl-video-episode-185.mp4\n",
      "Epoch: 950, mean return: -69.78, mean episode length: 572.4, loss: 1.30\n",
      "Moviepy - Building video C:\\Users\\48722\\Desktop\\RL\\CarRacing-v2_recored_episodes\\rl-video-episode-190.mp4.\n",
      "Moviepy - Writing video C:\\Users\\48722\\Desktop\\RL\\CarRacing-v2_recored_episodes\\rl-video-episode-190.mp4\n",
      "\n"
     ]
    },
    {
     "name": "stderr",
     "output_type": "stream",
     "text": [
      "                                                                                                                       \r"
     ]
    },
    {
     "name": "stdout",
     "output_type": "stream",
     "text": [
      "Moviepy - Done !\n",
      "Moviepy - video ready C:\\Users\\48722\\Desktop\\RL\\CarRacing-v2_recored_episodes\\rl-video-episode-190.mp4\n",
      "Epoch: 975, mean return: -80.97, mean episode length: 668.4, loss: 0.34\n",
      "Moviepy - Building video C:\\Users\\48722\\Desktop\\RL\\CarRacing-v2_recored_episodes\\rl-video-episode-195.mp4.\n",
      "Moviepy - Writing video C:\\Users\\48722\\Desktop\\RL\\CarRacing-v2_recored_episodes\\rl-video-episode-195.mp4\n",
      "\n"
     ]
    },
    {
     "name": "stderr",
     "output_type": "stream",
     "text": [
      "                                                                                                                       \r"
     ]
    },
    {
     "name": "stdout",
     "output_type": "stream",
     "text": [
      "Moviepy - Done !\n",
      "Moviepy - video ready C:\\Users\\48722\\Desktop\\RL\\CarRacing-v2_recored_episodes\\rl-video-episode-195.mp4\n",
      "Epoch: 1000, mean return: -75.79, mean episode length: 709.2, loss: 3.38\n",
      "Moviepy - Building video C:\\Users\\48722\\Desktop\\RL\\CarRacing-v2_recored_episodes\\rl-video-episode-200.mp4.\n",
      "Moviepy - Writing video C:\\Users\\48722\\Desktop\\RL\\CarRacing-v2_recored_episodes\\rl-video-episode-200.mp4\n",
      "\n"
     ]
    },
    {
     "name": "stderr",
     "output_type": "stream",
     "text": [
      "                                                                                                                       \r"
     ]
    },
    {
     "name": "stdout",
     "output_type": "stream",
     "text": [
      "Moviepy - Done !\n",
      "Moviepy - video ready C:\\Users\\48722\\Desktop\\RL\\CarRacing-v2_recored_episodes\\rl-video-episode-200.mp4\n",
      "Epoch: 1025, mean return: -64.85, mean episode length: 563.5, loss: 0.53\n",
      "Moviepy - Building video C:\\Users\\48722\\Desktop\\RL\\CarRacing-v2_recored_episodes\\rl-video-episode-205.mp4.\n",
      "Moviepy - Writing video C:\\Users\\48722\\Desktop\\RL\\CarRacing-v2_recored_episodes\\rl-video-episode-205.mp4\n",
      "\n"
     ]
    },
    {
     "name": "stderr",
     "output_type": "stream",
     "text": [
      "                                                                                                                       \r"
     ]
    },
    {
     "name": "stdout",
     "output_type": "stream",
     "text": [
      "Moviepy - Done !\n",
      "Moviepy - video ready C:\\Users\\48722\\Desktop\\RL\\CarRacing-v2_recored_episodes\\rl-video-episode-205.mp4\n",
      "Epoch: 1050, mean return: -64.45, mean episode length: 518.0, loss: 0.56\n",
      "Moviepy - Building video C:\\Users\\48722\\Desktop\\RL\\CarRacing-v2_recored_episodes\\rl-video-episode-210.mp4.\n",
      "Moviepy - Writing video C:\\Users\\48722\\Desktop\\RL\\CarRacing-v2_recored_episodes\\rl-video-episode-210.mp4\n",
      "\n"
     ]
    },
    {
     "name": "stderr",
     "output_type": "stream",
     "text": [
      "                                                                                                                       \r"
     ]
    },
    {
     "name": "stdout",
     "output_type": "stream",
     "text": [
      "Moviepy - Done !\n",
      "Moviepy - video ready C:\\Users\\48722\\Desktop\\RL\\CarRacing-v2_recored_episodes\\rl-video-episode-210.mp4\n",
      "Epoch: 1075, mean return: -61.84, mean episode length: 493.4, loss: 1.25\n",
      "Moviepy - Building video C:\\Users\\48722\\Desktop\\RL\\CarRacing-v2_recored_episodes\\rl-video-episode-215.mp4.\n",
      "Moviepy - Writing video C:\\Users\\48722\\Desktop\\RL\\CarRacing-v2_recored_episodes\\rl-video-episode-215.mp4\n",
      "\n"
     ]
    },
    {
     "name": "stderr",
     "output_type": "stream",
     "text": [
      "                                                                                                                       \r"
     ]
    },
    {
     "name": "stdout",
     "output_type": "stream",
     "text": [
      "Moviepy - Done !\n",
      "Moviepy - video ready C:\\Users\\48722\\Desktop\\RL\\CarRacing-v2_recored_episodes\\rl-video-episode-215.mp4\n",
      "Epoch: 1100, mean return: -60.57, mean episode length: 475.4, loss: 1.16\n",
      "Moviepy - Building video C:\\Users\\48722\\Desktop\\RL\\CarRacing-v2_recored_episodes\\rl-video-episode-220.mp4.\n",
      "Moviepy - Writing video C:\\Users\\48722\\Desktop\\RL\\CarRacing-v2_recored_episodes\\rl-video-episode-220.mp4\n",
      "\n"
     ]
    },
    {
     "name": "stderr",
     "output_type": "stream",
     "text": [
      "                                                                                                                       \r"
     ]
    },
    {
     "name": "stdout",
     "output_type": "stream",
     "text": [
      "Moviepy - Done !\n",
      "Moviepy - video ready C:\\Users\\48722\\Desktop\\RL\\CarRacing-v2_recored_episodes\\rl-video-episode-220.mp4\n",
      "Epoch: 1125, mean return: -47.77, mean episode length: 513.1, loss: 0.36\n",
      "Moviepy - Building video C:\\Users\\48722\\Desktop\\RL\\CarRacing-v2_recored_episodes\\rl-video-episode-225.mp4.\n",
      "Moviepy - Writing video C:\\Users\\48722\\Desktop\\RL\\CarRacing-v2_recored_episodes\\rl-video-episode-225.mp4\n",
      "\n"
     ]
    },
    {
     "name": "stderr",
     "output_type": "stream",
     "text": [
      "                                                                                                                       \r"
     ]
    },
    {
     "name": "stdout",
     "output_type": "stream",
     "text": [
      "Moviepy - Done !\n",
      "Moviepy - video ready C:\\Users\\48722\\Desktop\\RL\\CarRacing-v2_recored_episodes\\rl-video-episode-225.mp4\n",
      "Epoch: 1150, mean return: -33.71, mean episode length: 452.8, loss: 2.16\n",
      "Moviepy - Building video C:\\Users\\48722\\Desktop\\RL\\CarRacing-v2_recored_episodes\\rl-video-episode-230.mp4.\n",
      "Moviepy - Writing video C:\\Users\\48722\\Desktop\\RL\\CarRacing-v2_recored_episodes\\rl-video-episode-230.mp4\n",
      "\n"
     ]
    },
    {
     "name": "stderr",
     "output_type": "stream",
     "text": [
      "                                                                                                                       \r"
     ]
    },
    {
     "name": "stdout",
     "output_type": "stream",
     "text": [
      "Moviepy - Done !\n",
      "Moviepy - video ready C:\\Users\\48722\\Desktop\\RL\\CarRacing-v2_recored_episodes\\rl-video-episode-230.mp4\n",
      "Epoch: 1175, mean return: -38.88, mean episode length: 406.0, loss: 1.38\n",
      "Moviepy - Building video C:\\Users\\48722\\Desktop\\RL\\CarRacing-v2_recored_episodes\\rl-video-episode-235.mp4.\n",
      "Moviepy - Writing video C:\\Users\\48722\\Desktop\\RL\\CarRacing-v2_recored_episodes\\rl-video-episode-235.mp4\n",
      "\n"
     ]
    },
    {
     "name": "stderr",
     "output_type": "stream",
     "text": [
      "                                                                                                                       \r"
     ]
    },
    {
     "name": "stdout",
     "output_type": "stream",
     "text": [
      "Moviepy - Done !\n",
      "Moviepy - video ready C:\\Users\\48722\\Desktop\\RL\\CarRacing-v2_recored_episodes\\rl-video-episode-235.mp4\n",
      "Epoch: 1200, mean return: -42.84, mean episode length: 384.4, loss: 0.66\n",
      "Moviepy - Building video C:\\Users\\48722\\Desktop\\RL\\CarRacing-v2_recored_episodes\\rl-video-episode-240.mp4.\n",
      "Moviepy - Writing video C:\\Users\\48722\\Desktop\\RL\\CarRacing-v2_recored_episodes\\rl-video-episode-240.mp4\n",
      "\n"
     ]
    },
    {
     "name": "stderr",
     "output_type": "stream",
     "text": [
      "                                                                                                                       \r"
     ]
    },
    {
     "name": "stdout",
     "output_type": "stream",
     "text": [
      "Moviepy - Done !\n",
      "Moviepy - video ready C:\\Users\\48722\\Desktop\\RL\\CarRacing-v2_recored_episodes\\rl-video-episode-240.mp4\n",
      "Epoch: 1225, mean return: -55.22, mean episode length: 391.3, loss: 3.61\n",
      "Moviepy - Building video C:\\Users\\48722\\Desktop\\RL\\CarRacing-v2_recored_episodes\\rl-video-episode-245.mp4.\n",
      "Moviepy - Writing video C:\\Users\\48722\\Desktop\\RL\\CarRacing-v2_recored_episodes\\rl-video-episode-245.mp4\n",
      "\n"
     ]
    },
    {
     "name": "stderr",
     "output_type": "stream",
     "text": [
      "                                                                                                                       \r"
     ]
    },
    {
     "name": "stdout",
     "output_type": "stream",
     "text": [
      "Moviepy - Done !\n",
      "Moviepy - video ready C:\\Users\\48722\\Desktop\\RL\\CarRacing-v2_recored_episodes\\rl-video-episode-245.mp4\n",
      "Epoch: 1250, mean return: -55.47, mean episode length: 399.3, loss: 3.78\n",
      "Moviepy - Building video C:\\Users\\48722\\Desktop\\RL\\CarRacing-v2_recored_episodes\\rl-video-episode-250.mp4.\n",
      "Moviepy - Writing video C:\\Users\\48722\\Desktop\\RL\\CarRacing-v2_recored_episodes\\rl-video-episode-250.mp4\n",
      "\n"
     ]
    },
    {
     "name": "stderr",
     "output_type": "stream",
     "text": [
      "                                                                                                                       \r"
     ]
    },
    {
     "name": "stdout",
     "output_type": "stream",
     "text": [
      "Moviepy - Done !\n",
      "Moviepy - video ready C:\\Users\\48722\\Desktop\\RL\\CarRacing-v2_recored_episodes\\rl-video-episode-250.mp4\n",
      "Epoch: 1275, mean return: -45.51, mean episode length: 386.6, loss: 2.31\n",
      "Moviepy - Building video C:\\Users\\48722\\Desktop\\RL\\CarRacing-v2_recored_episodes\\rl-video-episode-255.mp4.\n",
      "Moviepy - Writing video C:\\Users\\48722\\Desktop\\RL\\CarRacing-v2_recored_episodes\\rl-video-episode-255.mp4\n",
      "\n"
     ]
    },
    {
     "name": "stderr",
     "output_type": "stream",
     "text": [
      "                                                                                                                       \r"
     ]
    },
    {
     "name": "stdout",
     "output_type": "stream",
     "text": [
      "Moviepy - Done !\n",
      "Moviepy - video ready C:\\Users\\48722\\Desktop\\RL\\CarRacing-v2_recored_episodes\\rl-video-episode-255.mp4\n",
      "Epoch: 1300, mean return: -64.32, mean episode length: 419.7, loss: 0.70\n",
      "Moviepy - Building video C:\\Users\\48722\\Desktop\\RL\\CarRacing-v2_recored_episodes\\rl-video-episode-260.mp4.\n",
      "Moviepy - Writing video C:\\Users\\48722\\Desktop\\RL\\CarRacing-v2_recored_episodes\\rl-video-episode-260.mp4\n",
      "\n"
     ]
    },
    {
     "name": "stderr",
     "output_type": "stream",
     "text": [
      "                                                                                                                       \r"
     ]
    },
    {
     "name": "stdout",
     "output_type": "stream",
     "text": [
      "Moviepy - Done !\n",
      "Moviepy - video ready C:\\Users\\48722\\Desktop\\RL\\CarRacing-v2_recored_episodes\\rl-video-episode-260.mp4\n",
      "Epoch: 1325, mean return: -76.17, mean episode length: 442.9, loss: 1.52\n",
      "Moviepy - Building video C:\\Users\\48722\\Desktop\\RL\\CarRacing-v2_recored_episodes\\rl-video-episode-265.mp4.\n",
      "Moviepy - Writing video C:\\Users\\48722\\Desktop\\RL\\CarRacing-v2_recored_episodes\\rl-video-episode-265.mp4\n",
      "\n"
     ]
    },
    {
     "name": "stderr",
     "output_type": "stream",
     "text": [
      "                                                                                                                       \r"
     ]
    },
    {
     "name": "stdout",
     "output_type": "stream",
     "text": [
      "Moviepy - Done !\n",
      "Moviepy - video ready C:\\Users\\48722\\Desktop\\RL\\CarRacing-v2_recored_episodes\\rl-video-episode-265.mp4\n",
      "Epoch: 1350, mean return: -73.99, mean episode length: 435.0, loss: 2.20\n",
      "Moviepy - Building video C:\\Users\\48722\\Desktop\\RL\\CarRacing-v2_recored_episodes\\rl-video-episode-270.mp4.\n",
      "Moviepy - Writing video C:\\Users\\48722\\Desktop\\RL\\CarRacing-v2_recored_episodes\\rl-video-episode-270.mp4\n",
      "\n"
     ]
    },
    {
     "name": "stderr",
     "output_type": "stream",
     "text": [
      "                                                                                                                       \r"
     ]
    },
    {
     "name": "stdout",
     "output_type": "stream",
     "text": [
      "Moviepy - Done !\n",
      "Moviepy - video ready C:\\Users\\48722\\Desktop\\RL\\CarRacing-v2_recored_episodes\\rl-video-episode-270.mp4\n",
      "Epoch: 1375, mean return: -71.73, mean episode length: 423.5, loss: 2.35\n",
      "Moviepy - Building video C:\\Users\\48722\\Desktop\\RL\\CarRacing-v2_recored_episodes\\rl-video-episode-275.mp4.\n",
      "Moviepy - Writing video C:\\Users\\48722\\Desktop\\RL\\CarRacing-v2_recored_episodes\\rl-video-episode-275.mp4\n",
      "\n"
     ]
    },
    {
     "name": "stderr",
     "output_type": "stream",
     "text": [
      "                                                                                                                       \r"
     ]
    },
    {
     "name": "stdout",
     "output_type": "stream",
     "text": [
      "Moviepy - Done !\n",
      "Moviepy - video ready C:\\Users\\48722\\Desktop\\RL\\CarRacing-v2_recored_episodes\\rl-video-episode-275.mp4\n",
      "Epoch: 1400, mean return: -64.27, mean episode length: 430.3, loss: 1.65\n",
      "Moviepy - Building video C:\\Users\\48722\\Desktop\\RL\\CarRacing-v2_recored_episodes\\rl-video-episode-280.mp4.\n",
      "Moviepy - Writing video C:\\Users\\48722\\Desktop\\RL\\CarRacing-v2_recored_episodes\\rl-video-episode-280.mp4\n",
      "\n"
     ]
    },
    {
     "name": "stderr",
     "output_type": "stream",
     "text": [
      "                                                                                                                       \r"
     ]
    },
    {
     "name": "stdout",
     "output_type": "stream",
     "text": [
      "Moviepy - Done !\n",
      "Moviepy - video ready C:\\Users\\48722\\Desktop\\RL\\CarRacing-v2_recored_episodes\\rl-video-episode-280.mp4\n",
      "Epoch: 1425, mean return: -40.98, mean episode length: 473.5, loss: 1.30\n",
      "Moviepy - Building video C:\\Users\\48722\\Desktop\\RL\\CarRacing-v2_recored_episodes\\rl-video-episode-285.mp4.\n",
      "Moviepy - Writing video C:\\Users\\48722\\Desktop\\RL\\CarRacing-v2_recored_episodes\\rl-video-episode-285.mp4\n",
      "\n"
     ]
    },
    {
     "name": "stderr",
     "output_type": "stream",
     "text": [
      "                                                                                                                       \r"
     ]
    },
    {
     "name": "stdout",
     "output_type": "stream",
     "text": [
      "Moviepy - Done !\n",
      "Moviepy - video ready C:\\Users\\48722\\Desktop\\RL\\CarRacing-v2_recored_episodes\\rl-video-episode-285.mp4\n",
      "Epoch: 1450, mean return: -16.26, mean episode length: 421.6, loss: 2.34\n",
      "Moviepy - Building video C:\\Users\\48722\\Desktop\\RL\\CarRacing-v2_recored_episodes\\rl-video-episode-290.mp4.\n",
      "Moviepy - Writing video C:\\Users\\48722\\Desktop\\RL\\CarRacing-v2_recored_episodes\\rl-video-episode-290.mp4\n",
      "\n"
     ]
    },
    {
     "name": "stderr",
     "output_type": "stream",
     "text": [
      "                                                                                                                       \r"
     ]
    },
    {
     "name": "stdout",
     "output_type": "stream",
     "text": [
      "Moviepy - Done !\n",
      "Moviepy - video ready C:\\Users\\48722\\Desktop\\RL\\CarRacing-v2_recored_episodes\\rl-video-episode-290.mp4\n",
      "Epoch: 1475, mean return: -31.01, mean episode length: 424.0, loss: 0.61\n",
      "Moviepy - Building video C:\\Users\\48722\\Desktop\\RL\\CarRacing-v2_recored_episodes\\rl-video-episode-295.mp4.\n",
      "Moviepy - Writing video C:\\Users\\48722\\Desktop\\RL\\CarRacing-v2_recored_episodes\\rl-video-episode-295.mp4\n",
      "\n"
     ]
    },
    {
     "name": "stderr",
     "output_type": "stream",
     "text": [
      "                                                                                                                       \r"
     ]
    },
    {
     "name": "stdout",
     "output_type": "stream",
     "text": [
      "Moviepy - Done !\n",
      "Moviepy - video ready C:\\Users\\48722\\Desktop\\RL\\CarRacing-v2_recored_episodes\\rl-video-episode-295.mp4\n",
      "Epoch: 1500, mean return: -67.32, mean episode length: 552.4, loss: 0.59\n",
      "Moviepy - Building video C:\\Users\\48722\\Desktop\\RL\\CarRacing-v2_recored_episodes\\rl-video-episode-300.mp4.\n",
      "Moviepy - Writing video C:\\Users\\48722\\Desktop\\RL\\CarRacing-v2_recored_episodes\\rl-video-episode-300.mp4\n",
      "\n"
     ]
    },
    {
     "name": "stderr",
     "output_type": "stream",
     "text": [
      "                                                                                                                       \r"
     ]
    },
    {
     "name": "stdout",
     "output_type": "stream",
     "text": [
      "Moviepy - Done !\n",
      "Moviepy - video ready C:\\Users\\48722\\Desktop\\RL\\CarRacing-v2_recored_episodes\\rl-video-episode-300.mp4\n",
      "Epoch: 1525, mean return: -61.34, mean episode length: 486.1, loss: 0.84\n",
      "Moviepy - Building video C:\\Users\\48722\\Desktop\\RL\\CarRacing-v2_recored_episodes\\rl-video-episode-305.mp4.\n",
      "Moviepy - Writing video C:\\Users\\48722\\Desktop\\RL\\CarRacing-v2_recored_episodes\\rl-video-episode-305.mp4\n",
      "\n"
     ]
    },
    {
     "name": "stderr",
     "output_type": "stream",
     "text": [
      "                                                                                                                       \r"
     ]
    },
    {
     "name": "stdout",
     "output_type": "stream",
     "text": [
      "Moviepy - Done !\n",
      "Moviepy - video ready C:\\Users\\48722\\Desktop\\RL\\CarRacing-v2_recored_episodes\\rl-video-episode-305.mp4\n",
      "Epoch: 1550, mean return: -38.91, mean episode length: 380.9, loss: 2.29\n",
      "Moviepy - Building video C:\\Users\\48722\\Desktop\\RL\\CarRacing-v2_recored_episodes\\rl-video-episode-310.mp4.\n",
      "Moviepy - Writing video C:\\Users\\48722\\Desktop\\RL\\CarRacing-v2_recored_episodes\\rl-video-episode-310.mp4\n",
      "\n"
     ]
    },
    {
     "name": "stderr",
     "output_type": "stream",
     "text": [
      "                                                                                                                       \r"
     ]
    },
    {
     "name": "stdout",
     "output_type": "stream",
     "text": [
      "Moviepy - Done !\n",
      "Moviepy - video ready C:\\Users\\48722\\Desktop\\RL\\CarRacing-v2_recored_episodes\\rl-video-episode-310.mp4\n",
      "Epoch: 1575, mean return: -44.87, mean episode length: 398.7, loss: 0.85\n",
      "Moviepy - Building video C:\\Users\\48722\\Desktop\\RL\\CarRacing-v2_recored_episodes\\rl-video-episode-315.mp4.\n",
      "Moviepy - Writing video C:\\Users\\48722\\Desktop\\RL\\CarRacing-v2_recored_episodes\\rl-video-episode-315.mp4\n",
      "\n"
     ]
    },
    {
     "name": "stderr",
     "output_type": "stream",
     "text": [
      "                                                                                                                       \r"
     ]
    },
    {
     "name": "stdout",
     "output_type": "stream",
     "text": [
      "Moviepy - Done !\n",
      "Moviepy - video ready C:\\Users\\48722\\Desktop\\RL\\CarRacing-v2_recored_episodes\\rl-video-episode-315.mp4\n",
      "Epoch: 1600, mean return: -64.16, mean episode length: 428.3, loss: 1.53\n",
      "Moviepy - Building video C:\\Users\\48722\\Desktop\\RL\\CarRacing-v2_recored_episodes\\rl-video-episode-320.mp4.\n",
      "Moviepy - Writing video C:\\Users\\48722\\Desktop\\RL\\CarRacing-v2_recored_episodes\\rl-video-episode-320.mp4\n",
      "\n"
     ]
    },
    {
     "name": "stderr",
     "output_type": "stream",
     "text": [
      "                                                                                                                       \r"
     ]
    },
    {
     "name": "stdout",
     "output_type": "stream",
     "text": [
      "Moviepy - Done !\n",
      "Moviepy - video ready C:\\Users\\48722\\Desktop\\RL\\CarRacing-v2_recored_episodes\\rl-video-episode-320.mp4\n",
      "Epoch: 1625, mean return: -72.36, mean episode length: 429.6, loss: 0.98\n",
      "Moviepy - Building video C:\\Users\\48722\\Desktop\\RL\\CarRacing-v2_recored_episodes\\rl-video-episode-325.mp4.\n",
      "Moviepy - Writing video C:\\Users\\48722\\Desktop\\RL\\CarRacing-v2_recored_episodes\\rl-video-episode-325.mp4\n",
      "\n"
     ]
    },
    {
     "name": "stderr",
     "output_type": "stream",
     "text": [
      "                                                                                                                       \r"
     ]
    },
    {
     "name": "stdout",
     "output_type": "stream",
     "text": [
      "Moviepy - Done !\n",
      "Moviepy - video ready C:\\Users\\48722\\Desktop\\RL\\CarRacing-v2_recored_episodes\\rl-video-episode-325.mp4\n",
      "Epoch: 1650, mean return: -49.79, mean episode length: 390.2, loss: 1.24\n",
      "Moviepy - Building video C:\\Users\\48722\\Desktop\\RL\\CarRacing-v2_recored_episodes\\rl-video-episode-330.mp4.\n",
      "Moviepy - Writing video C:\\Users\\48722\\Desktop\\RL\\CarRacing-v2_recored_episodes\\rl-video-episode-330.mp4\n",
      "\n"
     ]
    },
    {
     "name": "stderr",
     "output_type": "stream",
     "text": [
      "                                                                                                                       \r"
     ]
    },
    {
     "name": "stdout",
     "output_type": "stream",
     "text": [
      "Moviepy - Done !\n",
      "Moviepy - video ready C:\\Users\\48722\\Desktop\\RL\\CarRacing-v2_recored_episodes\\rl-video-episode-330.mp4\n",
      "Epoch: 1675, mean return: -51.82, mean episode length: 399.2, loss: 2.23\n",
      "Moviepy - Building video C:\\Users\\48722\\Desktop\\RL\\CarRacing-v2_recored_episodes\\rl-video-episode-335.mp4.\n",
      "Moviepy - Writing video C:\\Users\\48722\\Desktop\\RL\\CarRacing-v2_recored_episodes\\rl-video-episode-335.mp4\n",
      "\n"
     ]
    },
    {
     "name": "stderr",
     "output_type": "stream",
     "text": [
      "                                                                                                                       \r"
     ]
    },
    {
     "name": "stdout",
     "output_type": "stream",
     "text": [
      "Moviepy - Done !\n",
      "Moviepy - video ready C:\\Users\\48722\\Desktop\\RL\\CarRacing-v2_recored_episodes\\rl-video-episode-335.mp4\n",
      "Epoch: 1700, mean return: -66.24, mean episode length: 591.3, loss: 2.79\n",
      "Moviepy - Building video C:\\Users\\48722\\Desktop\\RL\\CarRacing-v2_recored_episodes\\rl-video-episode-340.mp4.\n",
      "Moviepy - Writing video C:\\Users\\48722\\Desktop\\RL\\CarRacing-v2_recored_episodes\\rl-video-episode-340.mp4\n",
      "\n"
     ]
    },
    {
     "name": "stderr",
     "output_type": "stream",
     "text": [
      "                                                                                                                       \r"
     ]
    },
    {
     "name": "stdout",
     "output_type": "stream",
     "text": [
      "Moviepy - Done !\n",
      "Moviepy - video ready C:\\Users\\48722\\Desktop\\RL\\CarRacing-v2_recored_episodes\\rl-video-episode-340.mp4\n",
      "Epoch: 1725, mean return: -50.47, mean episode length: 552.1, loss: 1.39\n",
      "Moviepy - Building video C:\\Users\\48722\\Desktop\\RL\\CarRacing-v2_recored_episodes\\rl-video-episode-345.mp4.\n",
      "Moviepy - Writing video C:\\Users\\48722\\Desktop\\RL\\CarRacing-v2_recored_episodes\\rl-video-episode-345.mp4\n",
      "\n"
     ]
    },
    {
     "name": "stderr",
     "output_type": "stream",
     "text": [
      "                                                                                                                       \r"
     ]
    },
    {
     "name": "stdout",
     "output_type": "stream",
     "text": [
      "Moviepy - Done !\n",
      "Moviepy - video ready C:\\Users\\48722\\Desktop\\RL\\CarRacing-v2_recored_episodes\\rl-video-episode-345.mp4\n",
      "Epoch: 1750, mean return: -34.87, mean episode length: 376.1, loss: 1.55\n",
      "Moviepy - Building video C:\\Users\\48722\\Desktop\\RL\\CarRacing-v2_recored_episodes\\rl-video-episode-350.mp4.\n",
      "Moviepy - Writing video C:\\Users\\48722\\Desktop\\RL\\CarRacing-v2_recored_episodes\\rl-video-episode-350.mp4\n",
      "\n"
     ]
    },
    {
     "name": "stderr",
     "output_type": "stream",
     "text": [
      "                                                                                                                       \r"
     ]
    },
    {
     "name": "stdout",
     "output_type": "stream",
     "text": [
      "Moviepy - Done !\n",
      "Moviepy - video ready C:\\Users\\48722\\Desktop\\RL\\CarRacing-v2_recored_episodes\\rl-video-episode-350.mp4\n",
      "Epoch: 1775, mean return: -48.99, mean episode length: 417.1, loss: 1.27\n",
      "Moviepy - Building video C:\\Users\\48722\\Desktop\\RL\\CarRacing-v2_recored_episodes\\rl-video-episode-355.mp4.\n",
      "Moviepy - Writing video C:\\Users\\48722\\Desktop\\RL\\CarRacing-v2_recored_episodes\\rl-video-episode-355.mp4\n",
      "\n"
     ]
    },
    {
     "name": "stderr",
     "output_type": "stream",
     "text": [
      "                                                                                                                       \r"
     ]
    },
    {
     "name": "stdout",
     "output_type": "stream",
     "text": [
      "Moviepy - Done !\n",
      "Moviepy - video ready C:\\Users\\48722\\Desktop\\RL\\CarRacing-v2_recored_episodes\\rl-video-episode-355.mp4\n",
      "Epoch: 1800, mean return: -62.29, mean episode length: 427.3, loss: 1.65\n",
      "Moviepy - Building video C:\\Users\\48722\\Desktop\\RL\\CarRacing-v2_recored_episodes\\rl-video-episode-360.mp4.\n",
      "Moviepy - Writing video C:\\Users\\48722\\Desktop\\RL\\CarRacing-v2_recored_episodes\\rl-video-episode-360.mp4\n",
      "\n"
     ]
    },
    {
     "name": "stderr",
     "output_type": "stream",
     "text": [
      "                                                                                                                       \r"
     ]
    },
    {
     "name": "stdout",
     "output_type": "stream",
     "text": [
      "Moviepy - Done !\n",
      "Moviepy - video ready C:\\Users\\48722\\Desktop\\RL\\CarRacing-v2_recored_episodes\\rl-video-episode-360.mp4\n",
      "Epoch: 1825, mean return: -38.61, mean episode length: 393.4, loss: 0.62\n",
      "Moviepy - Building video C:\\Users\\48722\\Desktop\\RL\\CarRacing-v2_recored_episodes\\rl-video-episode-365.mp4.\n",
      "Moviepy - Writing video C:\\Users\\48722\\Desktop\\RL\\CarRacing-v2_recored_episodes\\rl-video-episode-365.mp4\n",
      "\n"
     ]
    },
    {
     "name": "stderr",
     "output_type": "stream",
     "text": [
      "                                                                                                                       \r"
     ]
    },
    {
     "name": "stdout",
     "output_type": "stream",
     "text": [
      "Moviepy - Done !\n",
      "Moviepy - video ready C:\\Users\\48722\\Desktop\\RL\\CarRacing-v2_recored_episodes\\rl-video-episode-365.mp4\n",
      "Epoch: 1850, mean return: -50.71, mean episode length: 456.8, loss: 1.88\n",
      "Moviepy - Building video C:\\Users\\48722\\Desktop\\RL\\CarRacing-v2_recored_episodes\\rl-video-episode-370.mp4.\n",
      "Moviepy - Writing video C:\\Users\\48722\\Desktop\\RL\\CarRacing-v2_recored_episodes\\rl-video-episode-370.mp4\n",
      "\n"
     ]
    },
    {
     "name": "stderr",
     "output_type": "stream",
     "text": [
      "                                                                                                                       \r"
     ]
    },
    {
     "name": "stdout",
     "output_type": "stream",
     "text": [
      "Moviepy - Done !\n",
      "Moviepy - video ready C:\\Users\\48722\\Desktop\\RL\\CarRacing-v2_recored_episodes\\rl-video-episode-370.mp4\n"
     ]
    },
    {
     "ename": "KeyboardInterrupt",
     "evalue": "",
     "output_type": "error",
     "traceback": [
      "\u001b[1;31m---------------------------------------------------------------------------\u001b[0m",
      "\u001b[1;31mKeyboardInterrupt\u001b[0m                         Traceback (most recent call last)",
      "Input \u001b[1;32mIn [8]\u001b[0m, in \u001b[0;36m<cell line: 2>\u001b[1;34m()\u001b[0m\n\u001b[0;32m      1\u001b[0m algo \u001b[38;5;241m=\u001b[39m DeepQLearning(\u001b[38;5;124m\"\u001b[39m\u001b[38;5;124mCarRacing-v2\u001b[39m\u001b[38;5;124m\"\u001b[39m, \u001b[38;5;28;01mNone\u001b[39;00m, eps_last_episode\u001b[38;5;241m=\u001b[39m\u001b[38;5;241m1200\u001b[39m, eps_end\u001b[38;5;241m=\u001b[39m\u001b[38;5;241m0.10\u001b[39m, samples_per_epoch\u001b[38;5;241m=\u001b[39m\u001b[38;5;241m512\u001b[39m, batch_size\u001b[38;5;241m=\u001b[39m\u001b[38;5;241m128\u001b[39m)\n\u001b[1;32m----> 2\u001b[0m \u001b[43malgo\u001b[49m\u001b[38;5;241;43m.\u001b[39;49m\u001b[43mfit\u001b[49m\u001b[43m(\u001b[49m\u001b[38;5;241;43m2000\u001b[39;49m\u001b[43m)\u001b[49m\n",
      "Input \u001b[1;32mIn [6]\u001b[0m, in \u001b[0;36mDeepQLearning.fit\u001b[1;34m(self, n_epoch)\u001b[0m\n\u001b[0;32m     81\u001b[0m loss_total \u001b[38;5;241m=\u001b[39m \u001b[38;5;241m0\u001b[39m\n\u001b[0;32m     82\u001b[0m \u001b[38;5;28;01mfor\u001b[39;00m _ \u001b[38;5;129;01min\u001b[39;00m \u001b[38;5;28mrange\u001b[39m(\u001b[38;5;28mself\u001b[39m\u001b[38;5;241m.\u001b[39msamples_per_epoch\u001b[38;5;241m/\u001b[39m\u001b[38;5;241m/\u001b[39m\u001b[38;5;28mself\u001b[39m\u001b[38;5;241m.\u001b[39mbatch_size):\n\u001b[1;32m---> 84\u001b[0m   loss \u001b[38;5;241m=\u001b[39m \u001b[38;5;28;43mself\u001b[39;49m\u001b[38;5;241;43m.\u001b[39;49m\u001b[43mtraining_step\u001b[49m\u001b[43m(\u001b[49m\u001b[43m)\u001b[49m\n\u001b[0;32m     85\u001b[0m   loss_total \u001b[38;5;241m+\u001b[39m\u001b[38;5;241m=\u001b[39m loss\n\u001b[0;32m     87\u001b[0m last_return, episode_length  \u001b[38;5;241m=\u001b[39m \u001b[38;5;28mself\u001b[39m\u001b[38;5;241m.\u001b[39mtraining_epoch_end()\n",
      "Input \u001b[1;32mIn [6]\u001b[0m, in \u001b[0;36mDeepQLearning.training_step\u001b[1;34m(self)\u001b[0m\n\u001b[0;32m     99\u001b[0m \u001b[38;5;28;01mdef\u001b[39;00m \u001b[38;5;21mtraining_step\u001b[39m(\u001b[38;5;28mself\u001b[39m):\n\u001b[0;32m    100\u001b[0m     batch_T \u001b[38;5;241m=\u001b[39m \u001b[38;5;28mself\u001b[39m\u001b[38;5;241m.\u001b[39mbuffer\u001b[38;5;241m.\u001b[39msample(\u001b[38;5;28mself\u001b[39m\u001b[38;5;241m.\u001b[39mbatch_size)\n\u001b[1;32m--> 101\u001b[0m     batch \u001b[38;5;241m=\u001b[39m \u001b[38;5;28;43mlist\u001b[39;49m\u001b[43m(\u001b[49m\u001b[38;5;28;43mmap\u001b[39;49m\u001b[43m(\u001b[49m\u001b[43mtorch\u001b[49m\u001b[38;5;241;43m.\u001b[39;49m\u001b[43mstack\u001b[49m\u001b[43m,\u001b[49m\u001b[43m \u001b[49m\u001b[38;5;28;43mzip\u001b[39;49m\u001b[43m(\u001b[49m\u001b[38;5;241;43m*\u001b[39;49m\u001b[43mbatch_T\u001b[49m\u001b[43m)\u001b[49m\u001b[43m)\u001b[49m\u001b[43m)\u001b[49m\n\u001b[0;32m    103\u001b[0m     states, actions, rewards, dones, next_states \u001b[38;5;241m=\u001b[39m batch\n\u001b[0;32m    104\u001b[0m     actions \u001b[38;5;241m=\u001b[39m actions\u001b[38;5;241m.\u001b[39munsqueeze(\u001b[38;5;241m1\u001b[39m)\n",
      "\u001b[1;31mKeyboardInterrupt\u001b[0m: "
     ]
    }
   ],
   "source": [
    "algo = DeepQLearning(\"CarRacing-v2\", None, eps_last_episode=1200, eps_end=0.10, samples_per_epoch=512, batch_size=128)\n",
    "algo.fit(2000)"
   ]
  },
  {
   "cell_type": "code",
   "execution_count": null,
   "metadata": {
    "id": "MdnwbgAXM4oZ"
   },
   "outputs": [],
   "source": [
    "torch.save(algo.q_net, \"CarRacing_qnet\")"
   ]
  },
  {
   "cell_type": "code",
   "execution_count": 30,
   "metadata": {
    "id": "nzSR4803xmVo"
   },
   "outputs": [],
   "source": [
    "text = \"It is an short example sentence.\""
   ]
  },
  {
   "cell_type": "code",
   "execution_count": 38,
   "metadata": {},
   "outputs": [
    {
     "name": "stdout",
     "output_type": "stream",
     "text": [
      "It is an short example sentence.\n",
      "Is short sentence example an it.\n",
      "Sentence example is sentence. an short short is an it example it.\n",
      "An it. sentence. short an sentence. it short is example is example it example an an is example short sentence it short sentence is.\n"
     ]
    }
   ],
   "source": [
    "import random\n",
    "l = text.lower().strip(\".\").split()\n",
    "random.shuffle(l)\n",
    "l[0] = l[0].title()\n",
    "l[-1] = l[-1] + \".\"\n",
    "l = \" \".join(l)\n",
    "\n",
    "text = text + \"\\n\" + l\n",
    "print(text)"
   ]
  },
  {
   "cell_type": "code",
   "execution_count": 53,
   "metadata": {},
   "outputs": [],
   "source": [
    "f = open(\"file.txt\", \"w\")\n",
    "f.write(text)\n",
    "f.close()"
   ]
  },
  {
   "cell_type": "code",
   "execution_count": 54,
   "metadata": {},
   "outputs": [],
   "source": [
    "f = open(\"file.txt\")"
   ]
  },
  {
   "cell_type": "code",
   "execution_count": 55,
   "metadata": {},
   "outputs": [
    {
     "data": {
      "text/plain": [
       "'It is an short example sentence.\\nIs short sentence example an it.\\nSentence example is sentence. an short short is an it example it.\\nAn it. sentence. short an sentence. it short is example is example it example an an is example short sentence it short sentence is.'"
      ]
     },
     "execution_count": 55,
     "metadata": {},
     "output_type": "execute_result"
    }
   ],
   "source": [
    "f.read()"
   ]
  },
  {
   "cell_type": "code",
   "execution_count": 56,
   "metadata": {},
   "outputs": [
    {
     "name": "stdout",
     "output_type": "stream",
     "text": [
      "It is an short example sentence.\n",
      "\n",
      "Is short sentence example an it.\n",
      "\n",
      "Sentence example is sentence. an short short is an it example it.\n",
      "\n",
      "An it. sentence. short an sentence. it short is example is example it example an an is example short sentence it short sentence is.\n"
     ]
    }
   ],
   "source": [
    "from itertools import islice\n",
    "f = open(\"file.txt\", \"r\")\n",
    "for line in f:\n",
    "    print(line)"
   ]
  },
  {
   "cell_type": "code",
   "execution_count": 57,
   "metadata": {},
   "outputs": [
    {
     "data": {
      "text/plain": [
       "'abc.py'"
      ]
     },
     "execution_count": 57,
     "metadata": {},
     "output_type": "execute_result"
    }
   ],
   "source": [
    "from shutil import copyfile\n",
    "copyfile('file.txt', 'abc.py')"
   ]
  },
  {
   "cell_type": "code",
   "execution_count": 60,
   "metadata": {},
   "outputs": [
    {
     "data": {
      "text/plain": [
       "'It is an short example sentence.\\nIs short sentence example an it.\\nSentence example is sentence. an short short is an it example it.\\nAn it. sentence. short an sentence. it short is example is example it example an an is example short sentence it short sentence is.'"
      ]
     },
     "execution_count": 60,
     "metadata": {},
     "output_type": "execute_result"
    }
   ],
   "source": [
    "f = open(\"abc.py\", \"r\")\n",
    "f.read()"
   ]
  },
  {
   "cell_type": "code",
   "execution_count": 61,
   "metadata": {},
   "outputs": [
    {
     "data": {
      "text/plain": [
       "False"
      ]
     },
     "execution_count": 61,
     "metadata": {},
     "output_type": "execute_result"
    }
   ],
   "source": [
    "f.closed"
   ]
  },
  {
   "cell_type": "code",
   "execution_count": 62,
   "metadata": {},
   "outputs": [
    {
     "data": {
      "text/plain": [
       "<function TextIOWrapper.close()>"
      ]
     },
     "execution_count": 62,
     "metadata": {},
     "output_type": "execute_result"
    }
   ],
   "source": [
    "f.close"
   ]
  },
  {
   "cell_type": "code",
   "execution_count": 63,
   "metadata": {},
   "outputs": [],
   "source": [
    "f.close()"
   ]
  },
  {
   "cell_type": "code",
   "execution_count": 64,
   "metadata": {},
   "outputs": [
    {
     "data": {
      "text/plain": [
       "True"
      ]
     },
     "execution_count": 64,
     "metadata": {},
     "output_type": "execute_result"
    }
   ],
   "source": [
    "f.closed"
   ]
  },
  {
   "cell_type": "code",
   "execution_count": 66,
   "metadata": {},
   "outputs": [
    {
     "data": {
      "text/plain": [
       "[12, 45, 23]"
      ]
     },
     "execution_count": 66,
     "metadata": {},
     "output_type": "execute_result"
    }
   ],
   "source": [
    "from itertools import islice\n",
    "nums = [12,45,23,67,78,90,45,32,100,76,38,62,73,29,83]\n",
    "\n",
    "list(islice(nums, 3))"
   ]
  },
  {
   "cell_type": "code",
   "execution_count": 70,
   "metadata": {},
   "outputs": [
    {
     "ename": "TypeError",
     "evalue": "iter(v, w): v must be callable",
     "output_type": "error",
     "traceback": [
      "\u001b[1;31m---------------------------------------------------------------------------\u001b[0m",
      "\u001b[1;31mTypeError\u001b[0m                                 Traceback (most recent call last)",
      "Input \u001b[1;32mIn [70]\u001b[0m, in \u001b[0;36m<cell line: 1>\u001b[1;34m()\u001b[0m\n\u001b[1;32m----> 1\u001b[0m \u001b[38;5;28;43miter\u001b[39;49m\u001b[43m(\u001b[49m\u001b[43m(\u001b[49m\u001b[38;5;241;43m3\u001b[39;49m\u001b[43m,\u001b[49m\u001b[38;5;241;43m2\u001b[39;49m\u001b[43m,\u001b[49m\u001b[38;5;241;43m1\u001b[39;49m\u001b[43m)\u001b[49m\u001b[43m,\u001b[49m\u001b[43m \u001b[49m\u001b[38;5;241;43m1\u001b[39;49m\u001b[43m)\u001b[49m\n",
      "\u001b[1;31mTypeError\u001b[0m: iter(v, w): v must be callable"
     ]
    }
   ],
   "source": [
    "iter((3,2,1), 1)"
   ]
  },
  {
   "cell_type": "code",
   "execution_count": 75,
   "metadata": {},
   "outputs": [
    {
     "ename": "AttributeError",
     "evalue": "module 'functools' has no attribute 'cache'",
     "output_type": "error",
     "traceback": [
      "\u001b[1;31m---------------------------------------------------------------------------\u001b[0m",
      "\u001b[1;31mAttributeError\u001b[0m                            Traceback (most recent call last)",
      "Input \u001b[1;32mIn [75]\u001b[0m, in \u001b[0;36m<cell line: 2>\u001b[1;34m()\u001b[0m\n\u001b[0;32m      1\u001b[0m \u001b[38;5;28;01mimport\u001b[39;00m \u001b[38;5;21;01mfunctools\u001b[39;00m\n\u001b[1;32m----> 2\u001b[0m \u001b[43mfunctools\u001b[49m\u001b[38;5;241;43m.\u001b[39;49m\u001b[43mcache\u001b[49m\n",
      "\u001b[1;31mAttributeError\u001b[0m: module 'functools' has no attribute 'cache'"
     ]
    }
   ],
   "source": [
    "import functools\n",
    "functools.cache"
   ]
  },
  {
   "cell_type": "code",
   "execution_count": 77,
   "metadata": {},
   "outputs": [],
   "source": [
    "import time\n",
    "from functools import lru_cache\n",
    "\n",
    "@lru_cache\n",
    "def time_expensive_function(a, b):\n",
    "    time.sleep(5)\n",
    "    return a + b"
   ]
  },
  {
   "cell_type": "code",
   "execution_count": 81,
   "metadata": {},
   "outputs": [
    {
     "name": "stdout",
     "output_type": "stream",
     "text": [
      "-5.001824378967285\n"
     ]
    }
   ],
   "source": [
    "start = time.time()\n",
    "time_expensive_function(2, 3)\n",
    "print(start - time.time())"
   ]
  },
  {
   "cell_type": "code",
   "execution_count": null,
   "metadata": {},
   "outputs": [],
   "source": []
  }
 ],
 "metadata": {
  "accelerator": "GPU",
  "colab": {
   "gpuType": "T4",
   "provenance": []
  },
  "kernelspec": {
   "display_name": "Python 3 (ipykernel)",
   "language": "python",
   "name": "python3"
  },
  "language_info": {
   "codemirror_mode": {
    "name": "ipython",
    "version": 3
   },
   "file_extension": ".py",
   "mimetype": "text/x-python",
   "name": "python",
   "nbconvert_exporter": "python",
   "pygments_lexer": "ipython3",
   "version": "3.8.0"
  }
 },
 "nbformat": 4,
 "nbformat_minor": 1
}
