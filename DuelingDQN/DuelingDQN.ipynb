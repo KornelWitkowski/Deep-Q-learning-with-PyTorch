{
 "cells": [
  {
   "cell_type": "markdown",
   "metadata": {},
   "source": [
    "# Dueling DQN"
   ]
  },
  {
   "cell_type": "markdown",
   "metadata": {},
   "source": [
    "## Installation "
   ]
  },
  {
   "cell_type": "code",
   "execution_count": null,
   "metadata": {
    "colab": {
     "base_uri": "https://localhost:8080/"
    },
    "id": "ewjPXkBCnCMQ",
    "outputId": "0c8b0f71-50c6-4e57-b803-f33df2ad7859",
    "scrolled": true
   },
   "outputs": [],
   "source": [
    "!pip install gymnasium\n",
    "!pip install -q swig\n",
    "!pip install gymnasium[box2d]"
   ]
  },
  {
   "cell_type": "code",
   "execution_count": 2,
   "metadata": {
    "colab": {
     "base_uri": "https://localhost:8080/",
     "height": 367
    },
    "id": "GmaSyp8IFl5l",
    "outputId": "b9da8222-741c-4214-d872-410071ecc7fe"
   },
   "outputs": [
    {
     "data": {
      "image/png": "[encoded data removed]",
      "text/plain": [
       "<Figure size 432x288 with 1 Axes>"
      ]
     },
     "metadata": {
      "needs_background": "light"
     },
     "output_type": "display_data"
    }
   ],
   "source": [
    "import matplotlib.pyplot as plt\n",
    "import gymnasium as gym\n",
    "\n",
    "env = gym.make(\"CarRacing-v2\", render_mode=\"rgb_array\", continuous=False)\n",
    "env.reset()\n",
    "for i in range(50):\n",
    "  env.step(3)\n",
    "\n",
    "plt.imshow(env.render())\n",
    "plt.axis(\"off\");"
   ]
  },
  {
   "cell_type": "markdown",
   "metadata": {},
   "source": [
    "## Definitons"
   ]
  },
  {
   "cell_type": "code",
   "execution_count": 6,
   "metadata": {
    "id": "kSmaEpjwGJpo"
   },
   "outputs": [],
   "source": [
    "import random\n",
    "import torch\n",
    "import numpy as np\n",
    "\n",
    "device = 'cuda:0' if torch.cuda.is_available() else 'cpu'\n",
    "\n",
    "def epsilon_greedy(state, env, net, epsilon=0.0):\n",
    "  if np.random.random() < epsilon:\n",
    "    action = env.action_space.sample()\n",
    "  else:\n",
    "    q_values = net(state)\n",
    "    _, action = torch.max(q_values, dim=1)\n",
    "    action = int(action.item())\n",
    "  return action"
   ]
  },
  {
   "cell_type": "code",
   "execution_count": 7,
   "metadata": {
    "id": "zrHaVDV0GojV"
   },
   "outputs": [],
   "source": [
    "from collections import deque\n",
    "\n",
    "class ReplayBuffer:\n",
    "\n",
    "  def __init__(self, capacity):\n",
    "    self.buffer = deque(maxlen=capacity)\n",
    "\n",
    "  def __len__(self):\n",
    "    return len(self.buffer)\n",
    "\n",
    "  def append(self, experience):\n",
    "    self.buffer.append(experience)\n",
    "\n",
    "  def sample(self, batch_size):\n",
    "    return random.sample(self.buffer, batch_size)"
   ]
  },
  {
   "cell_type": "code",
   "execution_count": 9,
   "metadata": {
    "id": "JmjZ7tvfGpBA"
   },
   "outputs": [],
   "source": [
    "from gymnasium.wrappers import RecordVideo\n",
    "\n",
    "def create_gym_environment(name):\n",
    "  environment = gym.make(name, render_mode=\"rgb_array\", continuous=False)\n",
    "  environment = RecordVideo(environment, video_folder=f\"./{name}_recored_episodes\", episode_trigger=lambda x: x % 5 == 0)\n",
    "\n",
    "  return environment"
   ]
  },
  {
   "cell_type": "code",
   "execution_count": 10,
   "metadata": {
    "id": "3f6ogBLZuzWg"
   },
   "outputs": [],
   "source": [
    "from torch.nn import ReLU, Conv2d, ReLU, Module, Flatten, AvgPool2d, Sequential, Linear\n",
    "import torch.autograd as autograd\n",
    "\n",
    "class ConvDuelingDQN(Module):\n",
    "\n",
    "    def __init__(self, hidden_size, input_dim, output_dim):\n",
    "        super(ConvDuelingDQN, self).__init__()\n",
    "        self.input_dim = input_dim\n",
    "        self.output_dim = output_dim\n",
    "        self.start_time = time.time()\n",
    "\n",
    "        self.conv = Sequential(\n",
    "            Conv2d(3, 16, kernel_size=3, stride=3),\n",
    "            ReLU(),\n",
    "            Conv2d(16, 32, kernel_size=3, stride=3),\n",
    "            ReLU(),\n",
    "            Flatten()\n",
    "        )\n",
    "\n",
    "        self.fc_input_dim = 3200\n",
    "\n",
    "        self.value_stream = Sequential(\n",
    "            Linear(self.fc_input_dim, hidden_size),\n",
    "            ReLU(),\n",
    "            Linear(hidden_size, 1)\n",
    "        )\n",
    "\n",
    "        self.advantage_stream = Sequential(\n",
    "            Linear(self.fc_input_dim, hidden_size),\n",
    "            ReLU(),\n",
    "            Linear(hidden_size, self.output_dim)\n",
    "        )\n",
    "\n",
    "    def forward(self, state):\n",
    "        features = self.conv(state)\n",
    "        values = self.value_stream(features)\n",
    "        advantages = self.advantage_stream(features)\n",
    "        qvals = values + (advantages - advantages.mean())\n",
    "        return qvals"
   ]
  },
  {
   "cell_type": "code",
   "execution_count": 22,
   "metadata": {
    "id": "e9-QREClGuxG"
   },
   "outputs": [],
   "source": [
    "import time\n",
    "from torch.optim import AdamW\n",
    "from copy import deepcopy\n",
    "from torch.nn.functional import smooth_l1_loss\n",
    "\n",
    "class DeepQLearning():\n",
    "\n",
    "  def __init__(self, env_name, net=None, policy=epsilon_greedy, capacity=20_000,\n",
    "               batch_size=256, lr=1e-3, hidden_size=128, gamma=0.99,\n",
    "               loss_fn=smooth_l1_loss, optim=AdamW, eps_start=1.0, eps_end=0.15,\n",
    "               eps_last_episode=600, samples_per_epoch=1024, sync_rate=25, play_episode_rate=5):\n",
    "      self.env_name = env_name\n",
    "      self.env = create_gym_environment(env_name)\n",
    "\n",
    "      obs_size = self.env.observation_space.shape[0]\n",
    "      n_actions = self.env.action_space.n\n",
    "\n",
    "      self.q_net = net if net else ConvDuelingDQN(hidden_size, obs_size, n_actions)\n",
    "\n",
    "      self.optim = optim(self.q_net.parameters(), lr)\n",
    "      self.target_q_net = deepcopy(self.q_net)\n",
    "\n",
    "      self.policy = policy\n",
    "      self.buffer = ReplayBuffer(capacity=capacity)\n",
    "      self.loss_fn = loss_fn\n",
    "\n",
    "      self.gamma = gamma\n",
    "      self.batch_size = batch_size\n",
    "      self.eps_start = eps_start\n",
    "      self.eps_end = eps_end\n",
    "      self.eps_last_episode = eps_last_episode\n",
    "      self.sync_rate = sync_rate\n",
    "      self.samples_per_epoch = samples_per_epoch\n",
    "      self.lr = lr\n",
    "      self.play_episode_rate = play_episode_rate\n",
    "\n",
    "      self.current_epoch = 1\n",
    "      self.log = []\n",
    "      self.returns = []\n",
    "      self.episode_lengths = []\n",
    "      self.start_time = time.time()\n",
    "\n",
    "      while len(self.buffer) < self.samples_per_epoch:\n",
    "        self.play_episode(epsilon=1.0)\n",
    "\n",
    "  @torch.no_grad()\n",
    "  def play_episode(self, policy=None, epsilon=0.):\n",
    "      state = self.env.reset()[0]\n",
    "      done = False\n",
    "      rewards = 0\n",
    "      epsiode_length = 0\n",
    "\n",
    "      while not done:\n",
    "        state_v = torch.permute(torch.tensor(state), (2, 0, 1))/255.0\n",
    "        if policy:\n",
    "          action = policy(state_v.unsqueeze(0), self.env, self.q_net, epsilon=epsilon)\n",
    "        else:\n",
    "          action = self.env.action_space.sample()\n",
    "\n",
    "\n",
    "        next_state, reward, done1, done2, info = self.env.step(action)\n",
    "        done = done1 or done2\n",
    "\n",
    "        rewards += reward\n",
    "        epsiode_length += 1\n",
    "\n",
    "        next_state_v = torch.permute(torch.tensor(next_state), (2, 0, 1))/255.0\n",
    "        action_v = torch.tensor(action)\n",
    "        reward_v = torch.tensor(reward)\n",
    "        done_v = torch.tensor(done)\n",
    "        exp = (state_v, action_v, reward_v, done_v, next_state_v)\n",
    "\n",
    "        self.buffer.append(exp)\n",
    "        state = next_state\n",
    "      return rewards, epsiode_length\n",
    "\n",
    "\n",
    "  def fit(self, n_epoch):\n",
    "      for epoch in range(n_epoch):\n",
    "        loss_total = 0\n",
    "        for _ in range(self.samples_per_epoch//self.batch_size):\n",
    "\n",
    "          loss = self.training_step()\n",
    "          loss_total += loss\n",
    "\n",
    "        last_return, episode_length  = self.training_epoch_end()\n",
    "\n",
    "        if last_return is not None:\n",
    "          self.returns.append(last_return)\n",
    "          self.episode_lengths.append(episode_length)\n",
    "          self.log.append([self.current_epoch, last_return, loss_total.item()])\n",
    "\n",
    "        if self.current_epoch % 25 == 0:\n",
    "          print(f\"Epoch: {self.current_epoch}, mean return: {np.mean(self.returns[-10:]):.2f}, \" \\\n",
    "           f\"mean episode length: {np.mean(self.episode_lengths[-10:])}, loss: {loss_total:.2f}\")\n",
    "\n",
    "\n",
    "  def training_step(self):\n",
    "      batch_T = self.buffer.sample(self.batch_size)\n",
    "      batch = list(map(torch.stack, zip(*batch_T)))\n",
    "\n",
    "      states, actions, rewards, dones, next_states = batch\n",
    "      actions = actions.unsqueeze(1)\n",
    "      rewards = rewards.unsqueeze(1)\n",
    "      dones = dones.unsqueeze(1)\n",
    "      state_action_values = self.q_net(states).gather(1, actions)\n",
    "\n",
    "      next_action_values, _ = self.target_q_net(next_states).max(dim=1, keepdim=True)\n",
    "      next_action_values[dones] = 0.0\n",
    "\n",
    "      expected_state_action_values = rewards + self.gamma * next_action_values\n",
    "      loss = self.loss_fn(state_action_values, expected_state_action_values)\n",
    "\n",
    "      self.optim.zero_grad()\n",
    "      loss.backward()\n",
    "      self.optim.step()\n",
    "      return loss\n",
    "\n",
    "\n",
    "  def training_epoch_end(self):\n",
    "      epsilon = max(self.eps_end, self.eps_start - self.current_epoch / self.eps_last_episode)\n",
    "\n",
    "      if self.current_epoch % self.play_episode_rate == 0:\n",
    "        last_return, episode_length = self.play_episode(policy=self.policy, epsilon=epsilon)\n",
    "      else:\n",
    "        last_return = None\n",
    "        episode_length = None\n",
    "\n",
    "      if self.current_epoch % self.sync_rate == 0:\n",
    "        self.target_q_net.load_state_dict(self.q_net.state_dict())\n",
    "      self.current_epoch += 1\n",
    "      return last_return, episode_length"
   ]
  },
  {
   "cell_type": "markdown",
   "metadata": {},
   "source": [
    "## Training"
   ]
  },
  {
   "cell_type": "code",
   "execution_count": 45,
   "metadata": {
    "id": "-umP_Wy5vVdZ"
   },
   "outputs": [],
   "source": [
    "import shutil\n",
    "\n",
    "try:\n",
    "    shutil.rmtree(\"CarRacing-v2_recored_episodes\", ignore_errors=True)\n",
    "except:\n",
    "    pass\n",
    "# q_net = torch.load(\"CarRacing_qnet\")"
   ]
  },
  {
   "cell_type": "code",
   "execution_count": null,
   "metadata": {
    "colab": {
     "base_uri": "https://localhost:8080/"
    },
    "id": "Qv6Ay46BMjN0",
    "outputId": "0b78bd01-bf09-46d0-e40c-a0dc165b9986",
    "scrolled": false
   },
   "outputs": [],
   "source": [
    "algo = DeepQLearning(\"CarRacing-v2\", q_net, eps_last_episode=1200, eps_start=0.8, eps_end=0.10, samples_per_epoch=512, batch_size=128)\n",
    "algo.fit(2000)"
   ]
  },
  {
   "cell_type": "code",
   "execution_count": 24,
   "metadata": {
    "colab": {
     "base_uri": "https://localhost:8080/"
    },
    "id": "MdnwbgAXM4oZ",
    "outputId": "ebd447f9-e8f0-4571-8279-683b2ced663f"
   },
   "outputs": [],
   "source": [
    "torch.save(algo.q_net, \"CarRacing_qnet\")"
   ]
  },
  {
   "cell_type": "markdown",
   "metadata": {},
   "source": [
    "## Testing"
   ]
  },
  {
   "cell_type": "code",
   "execution_count": 25,
   "metadata": {
    "id": "nzSR4803xmVo"
   },
   "outputs": [],
   "source": [
    "q_net = torch.load(\"CarRacing_qnet\")"
   ]
  },
  {
   "cell_type": "code",
   "execution_count": 28,
   "metadata": {},
   "outputs": [],
   "source": [
    "from gymnasium.wrappers import RecordVideo\n",
    "\n",
    "def create_test_gym_environment(name):\n",
    "  environment = gym.make(name, render_mode=\"rgb_array\", continuous=False)\n",
    "  environment = RecordVideo(environment, video_folder=f\"./test_{name}\", episode_trigger=lambda x: x % 1 == 0)\n",
    "\n",
    "  return environment"
   ]
  },
  {
   "cell_type": "code",
   "execution_count": 42,
   "metadata": {},
   "outputs": [],
   "source": [
    "  def play_episode(test_env, q_net):\n",
    "      state = test_env.reset()[0]\n",
    "      done = False\n",
    "\n",
    "      while not done:\n",
    "        state_v = torch.permute(torch.tensor(state), (2, 0, 1))/255.0\n",
    "        action = epsilon_greedy(state_v.unsqueeze(0), test_env, q_net, epsilon=0.0)\n",
    "\n",
    "        next_state, reward, done1, done2, info = test_env.step(action)\n",
    "        done = done1 or done2\n",
    "        \n",
    "        state = next_state"
   ]
  },
  {
   "cell_type": "code",
   "execution_count": null,
   "metadata": {},
   "outputs": [],
   "source": [
    "test_env = create_test_gym_environment(\"CarRacing-v2\")\n",
    "for i in range(10):\n",
    "    play_episode(test_env, q_net)"
   ]
  }
 ],
 "metadata": {
  "accelerator": "GPU",
  "colab": {
   "gpuType": "T4",
   "provenance": []
  },
  "kernelspec": {
   "display_name": "Python 3 (ipykernel)",
   "language": "python",
   "name": "python3"
  },
  "language_info": {
   "codemirror_mode": {
    "name": "ipython",
    "version": 3
   },
   "file_extension": ".py",
   "mimetype": "text/x-python",
   "name": "python",
   "nbconvert_exporter": "python",
   "pygments_lexer": "ipython3",
   "version": "3.8.0"
  }
 },
 "nbformat": 4,
 "nbformat_minor": 1
}
